{
 "cells": [
  {
   "cell_type": "code",
   "execution_count": 35,
   "metadata": {},
   "outputs": [],
   "source": [
    "from pyparsing import Word, hexnums, WordEnd, Optional, alphas, alphanums\n",
    "import numpy as np\n",
    "import pandas as pd\n",
    "import os\n",
    "from sklearn.feature_extraction.text import CountVectorizer, TfidfTransformer,  TfidfVectorizer \n",
    "from sklearn.pipeline import Pipeline\n",
    "from sklearn.naive_bayes import MultinomialNB"
   ]
  },
  {
   "cell_type": "code",
   "execution_count": 36,
   "metadata": {},
   "outputs": [],
   "source": [
    "path=\"Data/Experiment 2/Train1\"\n",
    "f = os.listdir(path)"
   ]
  },
  {
   "cell_type": "code",
   "execution_count": 37,
   "metadata": {},
   "outputs": [],
   "source": [
    "files =[]\n",
    "result=[]\n",
    "intruderc=0\n",
    "for i in range(100):\n",
    "    with open(path+'/'+str(i)+'.asm') as source:\n",
    "        line = Optional(Word(alphas.lower(),alphanums)(\"opcode\"))\n",
    "        file=[]\n",
    "        for source_line in source:\n",
    "            result = line.parseString(source_line)\n",
    "            if \"opcode\" in result:\n",
    "                if result.opcode!='nop':\n",
    "                    file.append(result.opcode)\n",
    "        if file!=[]:\n",
    "            files.append(str(file))\n",
    "            intruderc+=1"
   ]
  },
  {
   "cell_type": "code",
   "execution_count": 38,
   "metadata": {},
   "outputs": [],
   "source": [
    "path=\"Data/Experiment 1/Train 1\"\n",
    "\n",
    "# for index, file in enumerate(f):\n",
    "#     os.rename(os.path.join(path, file), os.path.join(path, ''.join([str(index), '.asm'])))"
   ]
  },
  {
   "cell_type": "code",
   "execution_count": 39,
   "metadata": {},
   "outputs": [],
   "source": [
    "timidc=0\n",
    "for i in range(100):\n",
    "    with open(path+'/'+str(i)+'.asm') as source:\n",
    "        line = Optional(Word(alphas.lower(),alphanums)(\"opcode\"))\n",
    "        file=[]\n",
    "        for source_line in source:\n",
    "            result = line.parseString(source_line)\n",
    "            if \"opcode\" in result:\n",
    "                if result.opcode!='nop':\n",
    "                    file.append(result.opcode)\n",
    "        if file!=[]:\n",
    "            files.append(str(file))\n",
    "            timidc+=1"
   ]
  },
  {
   "cell_type": "code",
   "execution_count": 40,
   "metadata": {},
   "outputs": [
    {
     "data": {
      "text/plain": [
       "200"
      ]
     },
     "execution_count": 40,
     "metadata": {},
     "output_type": "execute_result"
    }
   ],
   "source": [
    "result=['intruder']*intruderc + ['timid']*timidc\n",
    "len(result)"
   ]
  },
  {
   "cell_type": "code",
   "execution_count": 41,
   "metadata": {},
   "outputs": [
    {
     "data": {
      "text/html": [
       "<div>\n",
       "<style scoped>\n",
       "    .dataframe tbody tr th:only-of-type {\n",
       "        vertical-align: middle;\n",
       "    }\n",
       "\n",
       "    .dataframe tbody tr th {\n",
       "        vertical-align: top;\n",
       "    }\n",
       "\n",
       "    .dataframe thead th {\n",
       "        text-align: right;\n",
       "    }\n",
       "</style>\n",
       "<table border=\"1\" class=\"dataframe\">\n",
       "  <thead>\n",
       "    <tr style=\"text-align: right;\">\n",
       "      <th></th>\n",
       "      <th>label</th>\n",
       "      <th>file</th>\n",
       "    </tr>\n",
       "  </thead>\n",
       "  <tbody>\n",
       "    <tr>\n",
       "      <th>0</th>\n",
       "      <td>intruder</td>\n",
       "      <td>['mov', 'mov', 'mov', 'mov', 'int', 'mov', 'mo...</td>\n",
       "    </tr>\n",
       "    <tr>\n",
       "      <th>1</th>\n",
       "      <td>intruder</td>\n",
       "      <td>['mov', 'mov', 'mov', 'mov', 'int', 'mov', 'mo...</td>\n",
       "    </tr>\n",
       "    <tr>\n",
       "      <th>2</th>\n",
       "      <td>intruder</td>\n",
       "      <td>['mov', 'mov', 'mov', 'mov', 'int', 'mov', 'mo...</td>\n",
       "    </tr>\n",
       "    <tr>\n",
       "      <th>3</th>\n",
       "      <td>intruder</td>\n",
       "      <td>['mov', 'mov', 'mov', 'mov', 'int', 'mov', 'mo...</td>\n",
       "    </tr>\n",
       "    <tr>\n",
       "      <th>4</th>\n",
       "      <td>intruder</td>\n",
       "      <td>['mov', 'mov', 'mov', 'mov', 'int', 'mov', 'mo...</td>\n",
       "    </tr>\n",
       "  </tbody>\n",
       "</table>\n",
       "</div>"
      ],
      "text/plain": [
       "      label                                               file\n",
       "0  intruder  ['mov', 'mov', 'mov', 'mov', 'int', 'mov', 'mo...\n",
       "1  intruder  ['mov', 'mov', 'mov', 'mov', 'int', 'mov', 'mo...\n",
       "2  intruder  ['mov', 'mov', 'mov', 'mov', 'int', 'mov', 'mo...\n",
       "3  intruder  ['mov', 'mov', 'mov', 'mov', 'int', 'mov', 'mo...\n",
       "4  intruder  ['mov', 'mov', 'mov', 'mov', 'int', 'mov', 'mo..."
      ]
     },
     "execution_count": 41,
     "metadata": {},
     "output_type": "execute_result"
    }
   ],
   "source": [
    "df = pd.DataFrame({'label':result, 'file':files})\n",
    "df.head()"
   ]
  },
  {
   "cell_type": "code",
   "execution_count": 42,
   "metadata": {},
   "outputs": [
    {
     "name": "stdout",
     "output_type": "stream",
     "text": [
      "(200, 2)\n"
     ]
    },
    {
     "data": {
      "text/html": [
       "<div>\n",
       "<style scoped>\n",
       "    .dataframe tbody tr th:only-of-type {\n",
       "        vertical-align: middle;\n",
       "    }\n",
       "\n",
       "    .dataframe tbody tr th {\n",
       "        vertical-align: top;\n",
       "    }\n",
       "\n",
       "    .dataframe thead th {\n",
       "        text-align: right;\n",
       "    }\n",
       "</style>\n",
       "<table border=\"1\" class=\"dataframe\">\n",
       "  <thead>\n",
       "    <tr style=\"text-align: right;\">\n",
       "      <th></th>\n",
       "      <th>label</th>\n",
       "      <th>file</th>\n",
       "    </tr>\n",
       "  </thead>\n",
       "  <tbody>\n",
       "    <tr>\n",
       "      <th>0</th>\n",
       "      <td>1</td>\n",
       "      <td>['mov', 'mov', 'mov', 'mov', 'int', 'mov', 'mo...</td>\n",
       "    </tr>\n",
       "    <tr>\n",
       "      <th>1</th>\n",
       "      <td>1</td>\n",
       "      <td>['mov', 'mov', 'mov', 'mov', 'int', 'mov', 'mo...</td>\n",
       "    </tr>\n",
       "    <tr>\n",
       "      <th>2</th>\n",
       "      <td>1</td>\n",
       "      <td>['mov', 'mov', 'mov', 'mov', 'int', 'mov', 'mo...</td>\n",
       "    </tr>\n",
       "    <tr>\n",
       "      <th>3</th>\n",
       "      <td>1</td>\n",
       "      <td>['mov', 'mov', 'mov', 'mov', 'int', 'mov', 'mo...</td>\n",
       "    </tr>\n",
       "    <tr>\n",
       "      <th>4</th>\n",
       "      <td>1</td>\n",
       "      <td>['mov', 'mov', 'mov', 'mov', 'int', 'mov', 'mo...</td>\n",
       "    </tr>\n",
       "  </tbody>\n",
       "</table>\n",
       "</div>"
      ],
      "text/plain": [
       "   label                                               file\n",
       "0      1  ['mov', 'mov', 'mov', 'mov', 'int', 'mov', 'mo...\n",
       "1      1  ['mov', 'mov', 'mov', 'mov', 'int', 'mov', 'mo...\n",
       "2      1  ['mov', 'mov', 'mov', 'mov', 'int', 'mov', 'mo...\n",
       "3      1  ['mov', 'mov', 'mov', 'mov', 'int', 'mov', 'mo...\n",
       "4      1  ['mov', 'mov', 'mov', 'mov', 'int', 'mov', 'mo..."
      ]
     },
     "execution_count": 42,
     "metadata": {},
     "output_type": "execute_result"
    }
   ],
   "source": [
    "df.loc[:,'label'] = df.label.map({'timid':0, 'intruder':1})\n",
    "print(df.shape)\n",
    "df.head()"
   ]
  },
  {
   "cell_type": "code",
   "execution_count": 43,
   "metadata": {},
   "outputs": [
    {
     "data": {
      "text/plain": [
       "label    0\n",
       "file     0\n",
       "dtype: int64"
      ]
     },
     "execution_count": 43,
     "metadata": {},
     "output_type": "execute_result"
    }
   ],
   "source": [
    "df.isnull().sum()"
   ]
  },
  {
   "cell_type": "code",
   "execution_count": 44,
   "metadata": {},
   "outputs": [
    {
     "data": {
      "text/plain": [
       "['mov', 'mov', 'mov', 'mov', 'int', 'mov', 'mov', 'int', 'db', 'push', 'mov', 'mov', 'mov', 'mov', 'call', 'jz', 'call', 'call', 'call', 'jz', 'call', 'call', 'call', 'pop', 'mov', 'cli', 'mov', 'mov', 'mov', 'mov', 'sti', 'jmp', 'mov', 'mov', 'mov', 'xor', 'mov', 'int', 'cmp', 'jz', 'xor', 'mov', 'mov', 'call', 'jnz', 'xor', 'mov', 'inc', 'mov', 'call', 'ret', 'call', 'jc', 'cmp', 'jnz', 'dec', 'mov', 'mov', 'call', 'inc', 'push', 'call', 'jz', 'pop', 'xor', 'stosb', 'mov', 'mov', 'mov', 'mov', 'mul', 'add', 'mov', 'call', 'push', 'call', 'jnz', 'call', 'jnz', 'inc', 'pop', 'xor', 'stosb', 'or', 'ret', 'ret', 'mov', 'mov', 'int', 'mov', 'mov', 'call', 'push', 'mov', 'mov', 'mov', 'int', 'or', 'jz', 'pop', 'inc', 'stosb', 'mov', 'mov', 'call', 'dec', 'push', 'call', 'jc', 'mov', 'int', 'jmp', 'pop', 'mov', 'stc', 'ret', 'pop', 'ret', 'call', 'push', 'mov', 'int', 'mov', 'mov', 'mov', 'int', 'pop', 'or', 'jz', 'test', 'jnz', 'cmp', 'je', 'call', 'push', 'mov', 'int', 'mov', 'int', 'jmp', 'xor', 'ret', 'mov', 'mov', 'mul', 'add', 'ret', 'mov', 'inc', 'or', 'jnz', 'dec', 'push', 'cld', 'lodsb', 'stosb', 'or', 'jnz', 'pop', 'ret', 'call', 'jnc', 'call', 'jnc', 'call', 'jnc', 'call', 'mov', 'mov', 'cmp', 'jnz', 'stc', 'ret', 'sub', 'ret', 'mov', 'mov', 'int', 'jnc', 'mov', 'mov', 'mov', 'mov', 'mov', 'int', 'mov', 'add', 'add', 'sub', 'add', 'add', 'sub', 'cmp', 'mov', 'add', 'mov', 'mul', 'mov', 'mov', 'mov', 'mov', 'int', 'mov', 'mov', 'mov', 'mov', 'int', 'jnc', 'mov', 'cmp', 'clc', 'jz', 'stc', 'mov', 'and', 'jnz', 'mov', 'sub', 'mov', 'add', 'adc', 'mov', 'mov', 'int', 'mov', 'mov', 'mov', 'mov', 'int', 'call', 'mov', 'xor', 'mov', 'mov', 'int', 'mov', 'mov', 'mov', 'inc', 'add', 'mov', 'adc', 'mov', 'mov', 'int', 'mov', 'mov', 'mov', 'mov', 'int', 'mov', 'mov', 'mov', 'inc', 'add', 'mov', 'adc', 'mov', 'mov', 'int', 'mov', 'mov', 'mov', 'mov', 'int', 'mov', 'mov', 'mov', 'add', 'add', 'mov', 'adc', 'mov', 'mov', 'int', 'mov', 'mov', 'mov', 'mov', 'int', 'xor', 'xor', 'mov', 'mov', 'int', 'mov', 'mov', 'shr', 'mov', 'and', 'mov', 'shl', 'add', 'sub', 'mov', 'mov', 'add', 'mov', 'shr', 'add', 'mov', 'mov', 'mov', 'mov', 'mov', 'mov', 'mov', 'mov', 'add', 'xor', 'adc', 'add', 'adc', 'push', 'mov', 'shr', 'mov', 'shl', 'add', 'mov', 'pop', 'and', 'mov', 'mov', 'add', 'mov', 'mov', 'mov', 'mov', 'int', 'mov', 'dec', 'dec', 'mov', 'mul', 'add', 'mov', 'adc', 'mov', 'mov', 'mov', 'mov', 'int', 'mov', 'mov', 'inc', 'mov', 'mov', 'mov', 'mov', 'add', 'mov', 'mov', 'mov', 'mov', 'mov', 'mov', 'int', 'ret', 'xor', 'int', 'and', 'ret', 'mov', 'mov', 'ret', 'mov', 'int', 'mov', 'mov', 'mov', 'mov', 'mov', 'mov', 'mov', 'int', 'ret', 'mov', 'mov', 'mov', 'mov', 'int', 'mov', 'mov', 'ret', 'mov', 'mov', 'mov', 'int', 'mov', 'mov', 'mov', 'mov', 'mov', 'int', 'mov', 'mov', 'mov', 'int', 'mov', 'mov', 'xor', 'mov', 'int', 'mov', 'mov', 'mov', 'mov', 'mov', 'mov', 'ret', 'mov', 'mov', 'mov', 'mov', 'mov', 'int', 'mov', 'mov', 'int', 'mov', 'xor', 'mov', 'mov', 'mov', 'int', 'ret', 'db']                                                                                                                                         20\n",
       "['jmp', 'db', 'mov', 'mov', 'int', 'call', 'sub', 'mov', 'mov', 'int', 'call', 'jz', 'jmp', 'call', 'mov', 'mov', 'mov', 'int', 'mov', 'mov', 'int', 'mov', 'mov', 'mov', 'mov', 'mov', 'mov', 'mov', 'mov', 'ret', 'mov', 'mov', 'mov', 'int', 'or', 'jnz', 'jmp', 'call', 'jnz', 'jmp', 'mov', 'int', 'jmp', 'ret', 'mov', 'mov', 'mov', 'int', 'jc', 'mov', 'push', 'mov', 'mov', 'mov', 'int', 'pop', 'mov', 'int', 'mov', 'add', 'jc', 'cmp', 'jz', 'jmp', 'cmp', 'jz', 'jmp', 'mov', 'or', 'ret', 'xor', 'ret', 'mov', 'mov', 'int', 'mov', 'xor', 'mov', 'mov', 'mov', 'int', 'mov', 'mov', 'mov', 'mov', 'int', 'xor', 'mov', 'add', 'mov', 'mov', 'int', 'mov', 'mov', 'mov', 'mov', 'int', 'xor', 'mov', 'mov', 'mov', 'int', 'mov', 'mov', 'mov', 'add', 'mov', 'mov', 'mov', 'mov', 'mov', 'mov', 'int', 'mov', 'mov', 'int', 'ret']                                                                                                                                                                                                                                                                                                                                                                                                                                                                                                                                                                                                                                                                                                                                                                                                                                                                                                                                                                                                                                                                                                                                                                                                                                                                                                                                                                                                                                                                                                                                                                                                                                                                                                                                                                                                                                                                                                                                                                                                                                                                                                                                                                                                                                                                                                                                                                                                                                         14\n",
       "['jmp', 'db', 'mov', 'mov', 'int', 'call', 'sub', 'mov', 'mov', 'int', 'call', 'jz', 'jmp', 'call', 'mov', 'mov', 'mov', 'int', 'mov', 'mov', 'int', 'mov', 'mov', 'mov', 'mov', 'mov', 'mov', 'mov', 'mov', 'ret', 'mov', 'mov', 'mov', 'int', 'or', 'jnz', 'jmp', 'call', 'jnz', 'jmp', 'mov', 'int', 'jmp', 'ret', 'mov', 'mov', 'mov', 'int', 'jc', 'mov', 'push', 'mov', 'mov', 'mov', 'int', 'pop', 'mov', 'int', 'mov', 'add', 'jc', 'cmp', 'jz', 'jmp', 'cmp', 'jz', 'jmp', 'mov', 'or', 'ret', 'xor', 'ret', 'mov', 'mov', 'int', 'mov', 'xor', 'mov', 'mov', 'mov', 'int', 'mov', 'mov', 'mov', 'mov', 'int', 'xor', 'mov', 'add', 'mov', 'mov', 'int', 'mov', 'mov', 'mov', 'mov', 'int', 'xor', 'mov', 'mov', 'mov', 'int', 'mov', 'mov', 'mov', 'add', 'mov', 'mov', 'mov', 'mov', 'mov', 'mov', 'int', 'mov', 'mov', 'int', 'call', 'ret']                                                                                                                                                                                                                                                                                                                                                                                                                                                                                                                                                                                                                                                                                                                                                                                                                                                                                                                                                                                                                                                                                                                                                                                                                                                                                                                                                                                                                                                                                                                                                                                                                                                                                                                                                                                                                                                                                                                                                                                                                                                                                                                                                                                                                                                                                                                                                                                                                                  7\n",
       "['mov', 'mov', 'mov', 'mov', 'int', 'mov', 'mov', 'int', 'db', 'push', 'mov', 'mov', 'mov', 'mov', 'call', 'jz', 'call', 'call', 'call', 'jz', 'call', 'call', 'call', 'pop', 'mov', 'cli', 'mov', 'mov', 'mov', 'mov', 'sti', 'jmp', 'mov', 'mov', 'mov', 'xor', 'mov', 'int', 'cmp', 'jz', 'xor', 'mov', 'mov', 'call', 'jnz', 'xor', 'mov', 'inc', 'mov', 'call', 'ret', 'call', 'jc', 'cmp', 'jnz', 'dec', 'mov', 'mov', 'call', 'inc', 'push', 'call', 'jz', 'pop', 'xor', 'stosb', 'cmp', 'cmp', 'cmp', 'cmp', 'cmp', 'cmp', 'cmp', 'cmp', 'cmp', 'cmp', 'cmp', 'cmp', 'cmp', 'cmp', 'cmp', 'cmp', 'cmp', 'cmp', 'cmp', 'mov', 'mov', 'mov', 'mov', 'mul', 'add', 'mov', 'call', 'push', 'call', 'jnz', 'call', 'jnz', 'inc', 'pop', 'xor', 'stosb', 'or', 'ret', 'ret', 'mov', 'mov', 'int', 'mov', 'mov', 'call', 'push', 'mov', 'mov', 'mov', 'int', 'or', 'jz', 'pop', 'inc', 'stosb', 'mov', 'mov', 'call', 'dec', 'push', 'call', 'jc', 'mov', 'int', 'jmp', 'pop', 'mov', 'stc', 'ret', 'pop', 'ret', 'call', 'push', 'mov', 'int', 'mov', 'mov', 'mov', 'int', 'pop', 'or', 'jz', 'test', 'jnz', 'cmp', 'je', 'call', 'push', 'mov', 'int', 'mov', 'int', 'jmp', 'xor', 'ret', 'mov', 'mov', 'mul', 'add', 'ret', 'mov', 'inc', 'or', 'jnz', 'dec', 'push', 'cld', 'lodsb', 'stosb', 'or', 'jnz', 'pop', 'ret', 'call', 'jnc', 'call', 'jnc', 'call', 'jnc', 'call', 'mov', 'mov', 'cmp', 'jnz', 'stc', 'ret', 'sub', 'ret', 'mov', 'mov', 'int', 'jnc', 'mov', 'mov', 'mov', 'mov', 'mov', 'int', 'mov', 'add', 'add', 'sub', 'add', 'add', 'sub', 'cmp', 'mov', 'add', 'mov', 'mul', 'mov', 'mov', 'mov', 'mov', 'int', 'mov', 'mov', 'mov', 'mov', 'int', 'jnc', 'mov', 'cmp', 'clc', 'jz', 'stc', 'mov', 'and', 'jnz', 'mov', 'sub', 'mov', 'add', 'adc', 'mov', 'mov', 'int', 'mov', 'mov', 'mov', 'mov', 'int', 'call', 'mov', 'xor', 'mov', 'mov', 'int', 'mov', 'mov', 'mov', 'inc', 'add', 'mov', 'adc', 'mov', 'mov', 'int', 'mov', 'mov', 'mov', 'mov', 'int', 'mov', 'mov', 'mov', 'inc', 'add', 'mov', 'adc', 'mov', 'mov', 'int', 'mov', 'mov', 'mov', 'mov', 'int', 'mov', 'mov', 'mov', 'add', 'add', 'mov', 'adc', 'mov', 'mov', 'int', 'mov', 'mov', 'mov', 'mov', 'int', 'xor', 'xor', 'mov', 'mov', 'int', 'mov', 'mov', 'shr', 'mov', 'and', 'mov', 'shl', 'add', 'sub', 'mov', 'mov', 'add', 'mov', 'shr', 'add', 'mov', 'mov', 'mov', 'mov', 'mov', 'mov', 'mov', 'mov', 'add', 'xor', 'adc', 'add', 'adc', 'push', 'mov', 'shr', 'mov', 'shl', 'add', 'mov', 'pop', 'and', 'mov', 'mov', 'add', 'mov', 'mov', 'mov', 'mov', 'int', 'mov', 'dec', 'dec', 'mov', 'mul', 'add', 'mov', 'adc', 'mov', 'mov', 'mov', 'mov', 'int', 'mov', 'mov', 'inc', 'mov', 'mov', 'mov', 'mov', 'add', 'mov', 'mov', 'mov', 'mov', 'mov', 'mov', 'int', 'ret', 'xor', 'int', 'and', 'ret', 'mov', 'mov', 'ret', 'mov', 'int', 'mov', 'mov', 'mov', 'mov', 'mov', 'mov', 'mov', 'int', 'ret', 'mov', 'mov', 'mov', 'mov', 'int', 'mov', 'mov', 'ret', 'mov', 'mov', 'mov', 'int', 'mov', 'mov', 'mov', 'mov', 'mov', 'int', 'mov', 'mov', 'mov', 'int', 'mov', 'mov', 'xor', 'mov', 'int', 'mov', 'mov', 'mov', 'mov', 'mov', 'mov', 'ret', 'mov', 'mov', 'mov', 'mov', 'mov', 'int', 'mov', 'mov', 'int', 'mov', 'xor', 'mov', 'mov', 'mov', 'int', 'ret', 'db']     2\n",
       "['mov', 'mov', 'mov', 'mov', 'int', 'mov', 'mov', 'int', 'db', 'push', 'mov', 'mov', 'mov', 'mov', 'call', 'jz', 'call', 'call', 'call', 'jz', 'call', 'call', 'call', 'pop', 'mov', 'cli', 'mov', 'mov', 'mov', 'mov', 'sti', 'jmp', 'mov', 'mov', 'mov', 'xor', 'mov', 'int', 'cmp', 'jz', 'xor', 'mov', 'mov', 'call', 'jnz', 'xor', 'cmp', 'mov', 'inc', 'mov', 'call', 'ret', 'call', 'jc', 'cmp', 'jnz', 'dec', 'mov', 'mov', 'call', 'inc', 'push', 'call', 'jz', 'pop', 'xor', 'stosb', 'mov', 'mov', 'mov', 'mov', 'mul', 'add', 'mov', 'call', 'push', 'call', 'jnz', 'call', 'jnz', 'inc', 'pop', 'xor', 'stosb', 'cmp', 'or', 'ret', 'call', 'ret', 'mov', 'mov', 'int', 'mov', 'mov', 'call', 'push', 'mov', 'mov', 'mov', 'int', 'or', 'jz', 'pop', 'inc', 'stosb', 'mov', 'mov', 'call', 'dec', 'push', 'call', 'jc', 'mov', 'int', 'jmp', 'pop', 'mov', 'stc', 'ret', 'pop', 'ret', 'call', 'push', 'mov', 'int', 'mov', 'mov', 'mov', 'int', 'pop', 'or', 'jz', 'test', 'jnz', 'cmp', 'je', 'call', 'push', 'mov', 'int', 'mov', 'int', 'jmp', 'xor', 'ret', 'mov', 'mov', 'mul', 'add', 'ret', 'mov', 'inc', 'or', 'jnz', 'dec', 'push', 'cld', 'lodsb', 'stosb', 'or', 'jnz', 'pop', 'ret', 'call', 'jnc', 'call', 'jnc', 'call', 'jnc', 'call', 'mov', 'mov', 'cmp', 'jnz', 'stc', 'ret', 'sub', 'ret', 'mov', 'mov', 'int', 'jnc', 'mov', 'mov', 'mov', 'mov', 'mov', 'int', 'mov', 'add', 'add', 'sub', 'add', 'add', 'sub', 'cmp', 'mov', 'add', 'mov', 'mul', 'mov', 'mov', 'mov', 'mov', 'int', 'mov', 'mov', 'mov', 'mov', 'int', 'jnc', 'mov', 'cmp', 'clc', 'jz', 'stc', 'mov', 'and', 'jnz', 'mov', 'sub', 'mov', 'add', 'adc', 'mov', 'mov', 'int', 'mov', 'mov', 'mov', 'mov', 'int', 'call', 'mov', 'xor', 'mov', 'mov', 'int', 'mov', 'mov', 'mov', 'inc', 'add', 'mov', 'adc', 'mov', 'mov', 'int', 'mov', 'mov', 'mov', 'mov', 'int', 'mov', 'mov', 'mov', 'inc', 'add', 'mov', 'adc', 'mov', 'mov', 'int', 'mov', 'mov', 'mov', 'mov', 'int', 'mov', 'mov', 'mov', 'add', 'add', 'mov', 'adc', 'mov', 'mov', 'int', 'mov', 'mov', 'mov', 'mov', 'int', 'xor', 'xor', 'mov', 'mov', 'int', 'mov', 'mov', 'shr', 'mov', 'and', 'mov', 'shl', 'add', 'sub', 'mov', 'mov', 'add', 'mov', 'shr', 'add', 'mov', 'mov', 'mov', 'mov', 'mov', 'mov', 'mov', 'mov', 'add', 'xor', 'adc', 'add', 'adc', 'push', 'mov', 'shr', 'mov', 'shl', 'add', 'mov', 'pop', 'and', 'mov', 'mov', 'add', 'mov', 'mov', 'mov', 'mov', 'int', 'mov', 'dec', 'dec', 'mov', 'mul', 'add', 'mov', 'adc', 'mov', 'mov', 'mov', 'mov', 'int', 'mov', 'mov', 'inc', 'mov', 'mov', 'mov', 'mov', 'add', 'mov', 'mov', 'mov', 'mov', 'mov', 'mov', 'int', 'ret', 'xor', 'int', 'and', 'ret', 'mov', 'mov', 'ret', 'mov', 'int', 'mov', 'mov', 'mov', 'mov', 'mov', 'mov', 'mov', 'int', 'ret', 'mov', 'mov', 'mov', 'mov', 'int', 'mov', 'mov', 'ret', 'mov', 'mov', 'mov', 'int', 'mov', 'mov', 'mov', 'mov', 'mov', 'int', 'mov', 'mov', 'mov', 'int', 'mov', 'mov', 'xor', 'mov', 'int', 'mov', 'mov', 'mov', 'mov', 'mov', 'mov', 'ret', 'mov', 'mov', 'mov', 'mov', 'mov', 'int', 'mov', 'mov', 'int', 'mov', 'xor', 'mov', 'mov', 'mov', 'int', 'ret', 'db']                                                                                                                    2\n",
       "                                                                                                                                                                                                                                                                                                                                                                                                                                                                                                                                                                                                                                                                                                                                                                                                                                                                                                                                                                                                                                                                                                                                                                                                                                                                                                                                                                                                                                                                                                                                                                                                                                                                                                                                                                                                                                                                                                                                                                                                                                                                                                                                                                                                                                                                                                                                                                                                                                                                                                                                                                                                                                                                                                                                                                                                                                                                                                                                                                                                                                                                                                                                                                                                                                                                                         ..\n",
       "['jmp', 'db', 'mov', 'mov', 'int', 'call', 'call', 'sub', 'mov', 'mov', 'int', 'call', 'jz', 'jmp', 'call', 'mov', 'mov', 'mov', 'int', 'mov', 'mov', 'int', 'mov', 'mov', 'mov', 'mov', 'mov', 'cmp', 'mov', 'mov', 'mov', 'ret', 'call', 'mov', 'mov', 'mov', 'int', 'or', 'jnz', 'jmp', 'call', 'jnz', 'jmp', 'mov', 'int', 'jmp', 'ret', 'mov', 'mov', 'mov', 'int', 'jc', 'mov', 'push', 'mov', 'mov', 'mov', 'int', 'pop', 'mov', 'int', 'mov', 'add', 'jc', 'cmp', 'jz', 'jmp', 'cmp', 'jz', 'jmp', 'mov', 'or', 'ret', 'xor', 'ret', 'mov', 'mov', 'int', 'mov', 'xor', 'mov', 'mov', 'mov', 'int', 'mov', 'mov', 'mov', 'mov', 'int', 'xor', 'mov', 'add', 'mov', 'mov', 'int', 'mov', 'mov', 'mov', 'mov', 'int', 'xor', 'mov', 'mov', 'mov', 'int', 'mov', 'mov', 'mov', 'add', 'mov', 'mov', 'mov', 'mov', 'mov', 'mov', 'int', 'mov', 'mov', 'int', 'ret']                                                                                                                                                                                                                                                                                                                                                                                                                                                                                                                                                                                                                                                                                                                                                                                                                                                                                                                                                                                                                                                                                                                                                                                                                                                                                                                                                                                                                                                                                                                                                                                                                                                                                                                                                                                                                                                                                                                                                                                                                                                                                                                                                                                                                                                                                                                                                                                                                   1\n",
       "['mov', 'mov', 'mov', 'mov', 'int', 'mov', 'mov', 'int', 'db', 'push', 'mov', 'mov', 'mov', 'mov', 'call', 'jz', 'call', 'call', 'call', 'jz', 'call', 'call', 'call', 'pop', 'mov', 'cli', 'mov', 'mov', 'mov', 'mov', 'sti', 'jmp', 'mov', 'mov', 'mov', 'xor', 'mov', 'int', 'cmp', 'jz', 'xor', 'mov', 'mov', 'call', 'jnz', 'xor', 'mov', 'inc', 'mov', 'call', 'ret', 'call', 'jc', 'cmp', 'jnz', 'dec', 'mov', 'mov', 'call', 'inc', 'push', 'call', 'jz', 'pop', 'xor', 'stosb', 'mov', 'mov', 'mov', 'mov', 'mul', 'add', 'mov', 'call', 'push', 'call', 'jnz', 'call', 'jnz', 'inc', 'pop', 'xor', 'stosb', 'or', 'ret', 'ret', 'mov', 'mov', 'int', 'mov', 'mov', 'call', 'push', 'mov', 'mov', 'mov', 'int', 'or', 'jz', 'pop', 'inc', 'stosb', 'mov', 'mov', 'call', 'dec', 'push', 'call', 'jc', 'mov', 'int', 'jmp', 'pop', 'mov', 'stc', 'ret', 'pop', 'ret', 'call', 'push', 'mov', 'int', 'mov', 'mov', 'mov', 'int', 'pop', 'or', 'jz', 'test', 'jnz', 'cmp', 'je', 'call', 'push', 'mov', 'int', 'mov', 'int', 'jmp', 'xor', 'ret', 'mov', 'mov', 'mul', 'add', 'ret', 'mov', 'inc', 'or', 'jnz', 'dec', 'push', 'cld', 'lodsb', 'stosb', 'or', 'jnz', 'pop', 'ret', 'call', 'jnc', 'call', 'jnc', 'call', 'jnc', 'call', 'mov', 'mov', 'cmp', 'jnz', 'stc', 'ret', 'sub', 'ret', 'mov', 'mov', 'int', 'jnc', 'mov', 'mov', 'mov', 'mov', 'mov', 'int', 'mov', 'add', 'add', 'sub', 'add', 'add', 'sub', 'call', 'cmp', 'mov', 'add', 'mov', 'mul', 'mov', 'mov', 'mov', 'mov', 'int', 'mov', 'mov', 'mov', 'cmp', 'mov', 'int', 'jnc', 'mov', 'cmp', 'clc', 'jz', 'stc', 'mov', 'and', 'jnz', 'mov', 'sub', 'mov', 'add', 'adc', 'mov', 'mov', 'int', 'mov', 'mov', 'mov', 'mov', 'int', 'call', 'mov', 'xor', 'mov', 'mov', 'int', 'mov', 'mov', 'mov', 'inc', 'add', 'mov', 'adc', 'mov', 'mov', 'int', 'mov', 'mov', 'mov', 'mov', 'int', 'mov', 'mov', 'mov', 'inc', 'add', 'mov', 'adc', 'mov', 'mov', 'int', 'mov', 'mov', 'mov', 'mov', 'int', 'mov', 'mov', 'mov', 'add', 'add', 'mov', 'adc', 'mov', 'mov', 'int', 'mov', 'mov', 'mov', 'mov', 'int', 'xor', 'xor', 'mov', 'mov', 'int', 'mov', 'mov', 'shr', 'mov', 'and', 'mov', 'shl', 'add', 'sub', 'mov', 'mov', 'add', 'mov', 'shr', 'add', 'mov', 'mov', 'mov', 'mov', 'mov', 'mov', 'mov', 'mov', 'add', 'xor', 'adc', 'add', 'adc', 'push', 'mov', 'shr', 'mov', 'shl', 'add', 'mov', 'pop', 'and', 'mov', 'mov', 'add', 'mov', 'mov', 'mov', 'mov', 'int', 'mov', 'dec', 'dec', 'mov', 'mul', 'add', 'mov', 'adc', 'mov', 'mov', 'mov', 'mov', 'int', 'mov', 'mov', 'inc', 'mov', 'mov', 'mov', 'mov', 'add', 'mov', 'mov', 'mov', 'mov', 'mov', 'mov', 'int', 'ret', 'xor', 'int', 'and', 'ret', 'mov', 'mov', 'ret', 'mov', 'int', 'mov', 'mov', 'mov', 'mov', 'mov', 'mov', 'mov', 'int', 'ret', 'mov', 'mov', 'mov', 'mov', 'int', 'mov', 'mov', 'ret', 'mov', 'mov', 'mov', 'int', 'mov', 'mov', 'mov', 'mov', 'mov', 'int', 'mov', 'mov', 'mov', 'int', 'mov', 'mov', 'xor', 'mov', 'int', 'mov', 'mov', 'mov', 'mov', 'mov', 'mov', 'ret', 'mov', 'mov', 'mov', 'mov', 'mov', 'int', 'mov', 'mov', 'int', 'mov', 'xor', 'mov', 'mov', 'mov', 'int', 'ret', 'db']                                                                                                                           1\n",
       "['mov', 'mov', 'mov', 'mov', 'int', 'mov', 'mov', 'int', 'db', 'push', 'mov', 'mov', 'mov', 'mov', 'call', 'jz', 'call', 'call', 'call', 'jz', 'call', 'call', 'call', 'pop', 'mov', 'cli', 'mov', 'mov', 'mov', 'mov', 'sti', 'jmp', 'mov', 'mov', 'mov', 'xor', 'mov', 'int', 'cmp', 'jz', 'xor', 'mov', 'mov', 'call', 'jnz', 'xor', 'mov', 'inc', 'mov', 'call', 'ret', 'call', 'jc', 'cmp', 'jnz', 'dec', 'mov', 'mov', 'call', 'inc', 'push', 'call', 'jz', 'pop', 'xor', 'stosb', 'mov', 'mov', 'mov', 'mov', 'mul', 'add', 'mov', 'call', 'push', 'call', 'jnz', 'call', 'jnz', 'inc', 'pop', 'xor', 'stosb', 'or', 'ret', 'ret', 'call', 'mov', 'mov', 'int', 'mov', 'mov', 'call', 'push', 'mov', 'mov', 'mov', 'cmp', 'int', 'or', 'jz', 'pop', 'inc', 'stosb', 'mov', 'mov', 'call', 'dec', 'push', 'call', 'jc', 'mov', 'int', 'jmp', 'pop', 'mov', 'stc', 'ret', 'pop', 'ret', 'call', 'push', 'mov', 'int', 'mov', 'mov', 'mov', 'int', 'pop', 'or', 'jz', 'test', 'jnz', 'cmp', 'je', 'call', 'push', 'mov', 'int', 'mov', 'int', 'jmp', 'xor', 'ret', 'mov', 'mov', 'mul', 'add', 'ret', 'mov', 'inc', 'or', 'jnz', 'dec', 'push', 'cld', 'lodsb', 'stosb', 'or', 'jnz', 'pop', 'ret', 'call', 'jnc', 'call', 'jnc', 'call', 'jnc', 'call', 'mov', 'mov', 'cmp', 'jnz', 'stc', 'ret', 'sub', 'ret', 'mov', 'mov', 'int', 'jnc', 'mov', 'mov', 'mov', 'mov', 'mov', 'int', 'mov', 'add', 'add', 'sub', 'add', 'add', 'sub', 'cmp', 'mov', 'add', 'mov', 'mul', 'mov', 'mov', 'mov', 'mov', 'int', 'mov', 'mov', 'mov', 'mov', 'int', 'jnc', 'mov', 'cmp', 'clc', 'jz', 'stc', 'mov', 'and', 'jnz', 'mov', 'sub', 'mov', 'add', 'adc', 'mov', 'mov', 'int', 'mov', 'mov', 'mov', 'mov', 'int', 'call', 'mov', 'xor', 'mov', 'mov', 'int', 'mov', 'mov', 'mov', 'inc', 'add', 'mov', 'adc', 'mov', 'mov', 'int', 'mov', 'mov', 'mov', 'mov', 'int', 'mov', 'mov', 'mov', 'inc', 'add', 'mov', 'adc', 'mov', 'mov', 'int', 'mov', 'mov', 'mov', 'mov', 'int', 'mov', 'mov', 'mov', 'add', 'add', 'mov', 'adc', 'mov', 'mov', 'int', 'mov', 'mov', 'mov', 'mov', 'int', 'xor', 'xor', 'mov', 'mov', 'int', 'mov', 'mov', 'shr', 'mov', 'and', 'mov', 'shl', 'add', 'sub', 'mov', 'mov', 'add', 'mov', 'shr', 'add', 'mov', 'mov', 'mov', 'mov', 'mov', 'mov', 'mov', 'mov', 'add', 'xor', 'adc', 'add', 'adc', 'push', 'mov', 'shr', 'mov', 'shl', 'add', 'mov', 'pop', 'and', 'mov', 'mov', 'add', 'mov', 'mov', 'mov', 'mov', 'int', 'mov', 'dec', 'dec', 'mov', 'mul', 'add', 'mov', 'adc', 'mov', 'mov', 'mov', 'mov', 'int', 'mov', 'mov', 'inc', 'mov', 'mov', 'mov', 'mov', 'add', 'mov', 'mov', 'mov', 'mov', 'mov', 'mov', 'int', 'ret', 'call', 'xor', 'int', 'and', 'ret', 'mov', 'mov', 'ret', 'mov', 'int', 'mov', 'cmp', 'mov', 'mov', 'mov', 'mov', 'mov', 'mov', 'int', 'ret', 'mov', 'mov', 'mov', 'mov', 'int', 'mov', 'mov', 'ret', 'mov', 'mov', 'mov', 'int', 'mov', 'mov', 'mov', 'mov', 'mov', 'int', 'mov', 'mov', 'mov', 'int', 'xor', 'xor', 'xor', 'xor', 'xor', 'xor', 'xor', 'mov', 'mov', 'xor', 'mov', 'int', 'mov', 'mov', 'mov', 'mov', 'mov', 'mov', 'ret', 'mov', 'mov', 'mov', 'mov', 'mov', 'int', 'mov', 'mov', 'int', 'mov', 'xor', 'mov', 'mov', 'mov', 'int', 'ret', 'db']                                                           1\n",
       "['jmp', 'db', 'mov', 'mov', 'int', 'call', 'sub', 'mov', 'mov', 'int', 'call', 'jz', 'jmp', 'call', 'mov', 'mov', 'mov', 'int', 'mov', 'mov', 'int', 'mov', 'mov', 'mov', 'mov', 'mov', 'mov', 'mov', 'mov', 'ret', 'mov', 'mov', 'mov', 'int', 'or', 'jnz', 'jmp', 'call', 'jnz', 'jmp', 'mov', 'int', 'jmp', 'ret', 'mov', 'mov', 'mov', 'int', 'jc', 'mov', 'push', 'mov', 'mov', 'mov', 'int', 'pop', 'mov', 'int', 'mov', 'add', 'jc', 'cmp', 'jz', 'jmp', 'cmp', 'jz', 'jmp', 'mov', 'or', 'ret', 'xor', 'ret', 'mov', 'mov', 'int', 'mov', 'xor', 'mov', 'mov', 'mov', 'int', 'mov', 'mov', 'mov', 'mov', 'int', 'xor', 'mov', 'add', 'mov', 'mov', 'int', 'mov', 'mov', 'mov', 'mov', 'int', 'xor', 'cmp', 'cmp', 'cmp', 'cmp', 'cmp', 'cmp', 'cmp', 'cmp', 'mov', 'mov', 'mov', 'int', 'mov', 'mov', 'mov', 'add', 'mov', 'mov', 'mov', 'mov', 'mov', 'mov', 'int', 'mov', 'mov', 'int', 'call', 'ret']                                                                                                                                                                                                                                                                                                                                                                                                                                                                                                                                                                                                                                                                                                                                                                                                                                                                                                                                                                                                                                                                                                                                                                                                                                                                                                                                                                                                                                                                                                                                                                                                                                                                                                                                                                                                                                                                                                                                                                                                                                                                                                                                                                                                                                                                                                                                                                          1\n",
       "['jmp', 'db', 'mov', 'mov', 'int', 'call', 'sub', 'mov', 'mov', 'int', 'call', 'jz', 'jmp', 'call', 'mov', 'mov', 'mov', 'int', 'mov', 'mov', 'int', 'mov', 'mov', 'mov', 'mov', 'mov', 'mov', 'mov', 'mov', 'ret', 'mov', 'mov', 'mov', 'int', 'or', 'jnz', 'jmp', 'call', 'jnz', 'jmp', 'mov', 'int', 'jmp', 'ret', 'mov', 'mov', 'mov', 'int', 'jc', 'mov', 'push', 'mov', 'mov', 'mov', 'int', 'pop', 'mov', 'int', 'mov', 'add', 'jc', 'cmp', 'jz', 'jmp', 'cmp', 'jz', 'jmp', 'mov', 'or', 'ret', 'xor', 'ret', 'mov', 'mov', 'int', 'mov', 'xor', 'mov', 'mov', 'mov', 'int', 'mov', 'mov', 'mov', 'mov', 'int', 'xor', 'mov', 'add', 'mov', 'mov', 'int', 'mov', 'mov', 'mov', 'mov', 'int', 'xor', 'mov', 'cmp', 'mov', 'mov', 'int', 'mov', 'mov', 'mov', 'add', 'mov', 'mov', 'mov', 'mov', 'mov', 'mov', 'int', 'mov', 'cmp', 'mov', 'int', 'call', 'call', 'ret']                                                                                                                                                                                                                                                                                                                                                                                                                                                                                                                                                                                                                                                                                                                                                                                                                                                                                                                                                                                                                                                                                                                                                                                                                                                                                                                                                                                                                                                                                                                                                                                                                                                                                                                                                                                                                                                                                                                                                                                                                                                                                                                                                                                                                                                                                                                                                                                                            1\n",
       "Name: file, Length: 153, dtype: int64"
      ]
     },
     "execution_count": 44,
     "metadata": {},
     "output_type": "execute_result"
    }
   ],
   "source": [
    "df['file'].value_counts()"
   ]
  },
  {
   "cell_type": "code",
   "execution_count": 45,
   "metadata": {},
   "outputs": [],
   "source": [
    "path=\"Data/Experiment 2/Test\"\n",
    "test =[]\n",
    "intruderc=0\n",
    "for i in range(20):\n",
    "    with open(path+'/'+str(i)+'.txt') as source:\n",
    "        line = Optional(Word(alphas.lower(),alphanums)(\"opcode\"))\n",
    "        file=[]\n",
    "        for source_line in source:\n",
    "            result = line.parseString(source_line)\n",
    "            if \"opcode\" in result:\n",
    "                if result.opcode!='nop':\n",
    "                    file.append(result.opcode)\n",
    "        if file!=[]:\n",
    "            test.append(str(file))\n",
    "            intruderc+=1"
   ]
  },
  {
   "cell_type": "code",
   "execution_count": 46,
   "metadata": {},
   "outputs": [],
   "source": [
    "path=\"Data/Experiment 1/Test\"\n",
    "f = os.listdir(path)\n",
    "\n",
    "# for index, file in enumerate(f):\n",
    "#     os.rename(os.path.join(path, file), os.path.join(path, ''.join([str(index), '.txt'])))\n",
    "    \n",
    "timidc=0\n",
    "for i in range(20):\n",
    "    with open(path+'/'+str(i)+'.txt') as source:\n",
    "        line = Optional(Word(alphas.lower(),alphanums)(\"opcode\"))\n",
    "        file=[]\n",
    "        for source_line in source:\n",
    "            result = line.parseString(source_line)\n",
    "            if \"opcode\" in result:\n",
    "                if result.opcode!='nop':\n",
    "                    file.append(result.opcode)\n",
    "        if file!=[]:\n",
    "            test.append(str(file))\n",
    "            timidc+=1"
   ]
  },
  {
   "cell_type": "code",
   "execution_count": 47,
   "metadata": {},
   "outputs": [
    {
     "data": {
      "text/plain": [
       "(40, 40)"
      ]
     },
     "execution_count": 47,
     "metadata": {},
     "output_type": "execute_result"
    }
   ],
   "source": [
    "result=['intruder']*intruderc + ['timid']*timidc\n",
    "len(result), len(test)"
   ]
  },
  {
   "cell_type": "code",
   "execution_count": 48,
   "metadata": {},
   "outputs": [
    {
     "data": {
      "text/html": [
       "<div>\n",
       "<style scoped>\n",
       "    .dataframe tbody tr th:only-of-type {\n",
       "        vertical-align: middle;\n",
       "    }\n",
       "\n",
       "    .dataframe tbody tr th {\n",
       "        vertical-align: top;\n",
       "    }\n",
       "\n",
       "    .dataframe thead th {\n",
       "        text-align: right;\n",
       "    }\n",
       "</style>\n",
       "<table border=\"1\" class=\"dataframe\">\n",
       "  <thead>\n",
       "    <tr style=\"text-align: right;\">\n",
       "      <th></th>\n",
       "      <th>label</th>\n",
       "      <th>file</th>\n",
       "    </tr>\n",
       "  </thead>\n",
       "  <tbody>\n",
       "    <tr>\n",
       "      <th>0</th>\n",
       "      <td>intruder</td>\n",
       "      <td>['mov', 'cmp', 'cmp', 'cmp', 'cmp', 'mov', 'mo...</td>\n",
       "    </tr>\n",
       "    <tr>\n",
       "      <th>1</th>\n",
       "      <td>intruder</td>\n",
       "      <td>['mov', 'cmp', 'cmp', 'cmp', 'cmp', 'mov', 'mo...</td>\n",
       "    </tr>\n",
       "    <tr>\n",
       "      <th>2</th>\n",
       "      <td>intruder</td>\n",
       "      <td>['mov', 'cmp', 'cmp', 'cmp', 'cmp', 'mov', 'mo...</td>\n",
       "    </tr>\n",
       "    <tr>\n",
       "      <th>3</th>\n",
       "      <td>intruder</td>\n",
       "      <td>['mov', 'cmp', 'cmp', 'cmp', 'cmp', 'mov', 'mo...</td>\n",
       "    </tr>\n",
       "    <tr>\n",
       "      <th>4</th>\n",
       "      <td>intruder</td>\n",
       "      <td>['mov', 'cmp', 'cmp', 'cmp', 'cmp', 'mov', 'mo...</td>\n",
       "    </tr>\n",
       "  </tbody>\n",
       "</table>\n",
       "</div>"
      ],
      "text/plain": [
       "      label                                               file\n",
       "0  intruder  ['mov', 'cmp', 'cmp', 'cmp', 'cmp', 'mov', 'mo...\n",
       "1  intruder  ['mov', 'cmp', 'cmp', 'cmp', 'cmp', 'mov', 'mo...\n",
       "2  intruder  ['mov', 'cmp', 'cmp', 'cmp', 'cmp', 'mov', 'mo...\n",
       "3  intruder  ['mov', 'cmp', 'cmp', 'cmp', 'cmp', 'mov', 'mo...\n",
       "4  intruder  ['mov', 'cmp', 'cmp', 'cmp', 'cmp', 'mov', 'mo..."
      ]
     },
     "execution_count": 48,
     "metadata": {},
     "output_type": "execute_result"
    }
   ],
   "source": [
    "dfTest = pd.DataFrame({'label':result, 'file':test})\n",
    "dfTest.head()"
   ]
  },
  {
   "cell_type": "code",
   "execution_count": 49,
   "metadata": {},
   "outputs": [
    {
     "name": "stdout",
     "output_type": "stream",
     "text": [
      "(40, 2)\n"
     ]
    },
    {
     "data": {
      "text/html": [
       "<div>\n",
       "<style scoped>\n",
       "    .dataframe tbody tr th:only-of-type {\n",
       "        vertical-align: middle;\n",
       "    }\n",
       "\n",
       "    .dataframe tbody tr th {\n",
       "        vertical-align: top;\n",
       "    }\n",
       "\n",
       "    .dataframe thead th {\n",
       "        text-align: right;\n",
       "    }\n",
       "</style>\n",
       "<table border=\"1\" class=\"dataframe\">\n",
       "  <thead>\n",
       "    <tr style=\"text-align: right;\">\n",
       "      <th></th>\n",
       "      <th>label</th>\n",
       "      <th>file</th>\n",
       "    </tr>\n",
       "  </thead>\n",
       "  <tbody>\n",
       "    <tr>\n",
       "      <th>0</th>\n",
       "      <td>1</td>\n",
       "      <td>['mov', 'cmp', 'cmp', 'cmp', 'cmp', 'mov', 'mo...</td>\n",
       "    </tr>\n",
       "    <tr>\n",
       "      <th>1</th>\n",
       "      <td>1</td>\n",
       "      <td>['mov', 'cmp', 'cmp', 'cmp', 'cmp', 'mov', 'mo...</td>\n",
       "    </tr>\n",
       "    <tr>\n",
       "      <th>2</th>\n",
       "      <td>1</td>\n",
       "      <td>['mov', 'cmp', 'cmp', 'cmp', 'cmp', 'mov', 'mo...</td>\n",
       "    </tr>\n",
       "    <tr>\n",
       "      <th>3</th>\n",
       "      <td>1</td>\n",
       "      <td>['mov', 'cmp', 'cmp', 'cmp', 'cmp', 'mov', 'mo...</td>\n",
       "    </tr>\n",
       "    <tr>\n",
       "      <th>4</th>\n",
       "      <td>1</td>\n",
       "      <td>['mov', 'cmp', 'cmp', 'cmp', 'cmp', 'mov', 'mo...</td>\n",
       "    </tr>\n",
       "  </tbody>\n",
       "</table>\n",
       "</div>"
      ],
      "text/plain": [
       "   label                                               file\n",
       "0      1  ['mov', 'cmp', 'cmp', 'cmp', 'cmp', 'mov', 'mo...\n",
       "1      1  ['mov', 'cmp', 'cmp', 'cmp', 'cmp', 'mov', 'mo...\n",
       "2      1  ['mov', 'cmp', 'cmp', 'cmp', 'cmp', 'mov', 'mo...\n",
       "3      1  ['mov', 'cmp', 'cmp', 'cmp', 'cmp', 'mov', 'mo...\n",
       "4      1  ['mov', 'cmp', 'cmp', 'cmp', 'cmp', 'mov', 'mo..."
      ]
     },
     "execution_count": 49,
     "metadata": {},
     "output_type": "execute_result"
    }
   ],
   "source": [
    "dfTest.loc[:,'label'] = dfTest.label.map({'timid':0, 'intruder':1})\n",
    "print(dfTest.shape)\n",
    "dfTest.head()"
   ]
  },
  {
   "cell_type": "code",
   "execution_count": 50,
   "metadata": {},
   "outputs": [],
   "source": [
    "X=df['file']\n",
    "y=df['label']\n",
    "X_test=dfTest['file']\n",
    "y_test=dfTest['label']"
   ]
  },
  {
   "cell_type": "code",
   "execution_count": 51,
   "metadata": {},
   "outputs": [
    {
     "data": {
      "text/plain": [
       "(200, 33)"
      ]
     },
     "execution_count": 51,
     "metadata": {},
     "output_type": "execute_result"
    }
   ],
   "source": [
    "count_vect=CountVectorizer()\n",
    "X_counts =count_vect.fit_transform(X)\n",
    "X_counts.shape"
   ]
  },
  {
   "cell_type": "code",
   "execution_count": 52,
   "metadata": {},
   "outputs": [
    {
     "data": {
      "text/plain": [
       "(40, 33)"
      ]
     },
     "execution_count": 52,
     "metadata": {},
     "output_type": "execute_result"
    }
   ],
   "source": [
    "X_counts_test =count_vect.transform(X_test)\n",
    "X_counts_test.shape"
   ]
  },
  {
   "cell_type": "code",
   "execution_count": 59,
   "metadata": {},
   "outputs": [
    {
     "data": {
      "text/plain": [
       "MultinomialNB()"
      ]
     },
     "execution_count": 59,
     "metadata": {},
     "output_type": "execute_result"
    }
   ],
   "source": [
    "from sklearn.naive_bayes import MultinomialNB\n",
    "naive_bayes = MultinomialNB()\n",
    "naive_bayes.fit(X_counts,y)"
   ]
  },
  {
   "cell_type": "code",
   "execution_count": 60,
   "metadata": {},
   "outputs": [],
   "source": [
    "predictions = naive_bayes.predict(X_counts_test)"
   ]
  },
  {
   "cell_type": "code",
   "execution_count": 62,
   "metadata": {},
   "outputs": [
    {
     "name": "stdout",
     "output_type": "stream",
     "text": [
      "Accuracy score: 1.0\n",
      "Precision score: 1.0\n",
      "Recall score: 1.0\n",
      "F1 score: 1.0\n"
     ]
    }
   ],
   "source": [
    "from sklearn.metrics import accuracy_score, precision_score, recall_score, f1_score\n",
    "print('Accuracy score: {}'.format(accuracy_score(y_test, predictions)))\n",
    "print('Precision score: {}'.format(precision_score(y_test, predictions)))\n",
    "print('Recall score: {}'.format(recall_score(y_test, predictions)))\n",
    "print('F1 score: {}'.format(f1_score(y_test, predictions)))"
   ]
  },
  {
   "cell_type": "code",
   "execution_count": 63,
   "metadata": {},
   "outputs": [
    {
     "name": "stdout",
     "output_type": "stream",
     "text": [
      "[[20  0]\n",
      " [ 0 20]]\n"
     ]
    }
   ],
   "source": [
    "from sklearn import metrics\n",
    "print(metrics.confusion_matrix(y_test,predictions))"
   ]
  }
 ],
 "metadata": {
  "kernelspec": {
   "display_name": "Python 3",
   "language": "python",
   "name": "python3"
  },
  "language_info": {
   "codemirror_mode": {
    "name": "ipython",
    "version": 3
   },
   "file_extension": ".py",
   "mimetype": "text/x-python",
   "name": "python",
   "nbconvert_exporter": "python",
   "pygments_lexer": "ipython3",
   "version": "3.8.5"
  }
 },
 "nbformat": 4,
 "nbformat_minor": 4
}
