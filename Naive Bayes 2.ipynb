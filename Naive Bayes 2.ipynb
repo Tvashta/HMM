{
 "cells": [
  {
   "cell_type": "code",
   "execution_count": 1,
   "metadata": {},
   "outputs": [],
   "source": [
    "from pyparsing import Word, hexnums, WordEnd, Optional, alphas, alphanums\n",
    "import numpy as np\n",
    "import pandas as pd\n",
    "import os\n",
    "from sklearn.feature_extraction.text import CountVectorizer, TfidfTransformer,  TfidfVectorizer \n",
    "from sklearn.pipeline import Pipeline\n",
    "from sklearn.naive_bayes import MultinomialNB"
   ]
  },
  {
   "cell_type": "code",
   "execution_count": 2,
   "metadata": {},
   "outputs": [],
   "source": [
    "path=\"Data/Experiment 2/Train2\"\n",
    "f = os.listdir(path)"
   ]
  },
  {
   "cell_type": "code",
   "execution_count": 3,
   "metadata": {},
   "outputs": [],
   "source": [
    "files =[]\n",
    "result=[]\n",
    "intruderc=0\n",
    "for i in range(101):\n",
    "    with open(path+'/'+str(i)+'.asm') as source:\n",
    "        line = Optional(Word(alphas.lower(),alphanums)(\"opcode\"))\n",
    "        file=[]\n",
    "        for source_line in source:\n",
    "            result = line.parseString(source_line)\n",
    "            if \"opcode\" in result:\n",
    "                if result.opcode!='nop':\n",
    "                    file.append(result.opcode)\n",
    "        if file!=[]:\n",
    "            files.append(str(file))\n",
    "            intruderc+=1"
   ]
  },
  {
   "cell_type": "code",
   "execution_count": 4,
   "metadata": {},
   "outputs": [],
   "source": [
    "path=\"Data/Experiment 1/Train 2\"\n",
    "\n",
    "# for index, file in enumerate(f):\n",
    "#     os.rename(os.path.join(path, file), os.path.join(path, ''.join([str(index), '.asm'])))"
   ]
  },
  {
   "cell_type": "code",
   "execution_count": 5,
   "metadata": {},
   "outputs": [],
   "source": [
    "timidc=0\n",
    "for i in range(102):\n",
    "    with open(path+'/'+str(i)+'.asm') as source:\n",
    "        line = Optional(Word(alphas.lower(),alphanums)(\"opcode\"))\n",
    "        file=[]\n",
    "        for source_line in source:\n",
    "            result = line.parseString(source_line)\n",
    "            if \"opcode\" in result:\n",
    "                if result.opcode!='nop':\n",
    "                    file.append(result.opcode)\n",
    "        if file!=[]:\n",
    "            files.append(str(file))\n",
    "            timidc+=1"
   ]
  },
  {
   "cell_type": "code",
   "execution_count": 6,
   "metadata": {},
   "outputs": [
    {
     "data": {
      "text/plain": [
       "203"
      ]
     },
     "execution_count": 6,
     "metadata": {},
     "output_type": "execute_result"
    }
   ],
   "source": [
    "result=['intruder']*intruderc + ['timid']*timidc\n",
    "len(result)"
   ]
  },
  {
   "cell_type": "code",
   "execution_count": 7,
   "metadata": {},
   "outputs": [
    {
     "data": {
      "text/html": [
       "<div>\n",
       "<style scoped>\n",
       "    .dataframe tbody tr th:only-of-type {\n",
       "        vertical-align: middle;\n",
       "    }\n",
       "\n",
       "    .dataframe tbody tr th {\n",
       "        vertical-align: top;\n",
       "    }\n",
       "\n",
       "    .dataframe thead th {\n",
       "        text-align: right;\n",
       "    }\n",
       "</style>\n",
       "<table border=\"1\" class=\"dataframe\">\n",
       "  <thead>\n",
       "    <tr style=\"text-align: right;\">\n",
       "      <th></th>\n",
       "      <th>label</th>\n",
       "      <th>file</th>\n",
       "    </tr>\n",
       "  </thead>\n",
       "  <tbody>\n",
       "    <tr>\n",
       "      <th>0</th>\n",
       "      <td>intruder</td>\n",
       "      <td>['mov', 'mov', 'mov', 'mov', 'int', 'mov', 'mo...</td>\n",
       "    </tr>\n",
       "    <tr>\n",
       "      <th>1</th>\n",
       "      <td>intruder</td>\n",
       "      <td>['mov', 'mov', 'mov', 'mov', 'int', 'mov', 'cm...</td>\n",
       "    </tr>\n",
       "    <tr>\n",
       "      <th>2</th>\n",
       "      <td>intruder</td>\n",
       "      <td>['mov', 'mov', 'mov', 'mov', 'int', 'mov', 'mo...</td>\n",
       "    </tr>\n",
       "    <tr>\n",
       "      <th>3</th>\n",
       "      <td>intruder</td>\n",
       "      <td>['mov', 'mov', 'mov', 'mov', 'int', 'mov', 'mo...</td>\n",
       "    </tr>\n",
       "    <tr>\n",
       "      <th>4</th>\n",
       "      <td>intruder</td>\n",
       "      <td>['mov', 'mov', 'mov', 'mov', 'int', 'mov', 'mo...</td>\n",
       "    </tr>\n",
       "  </tbody>\n",
       "</table>\n",
       "</div>"
      ],
      "text/plain": [
       "      label                                               file\n",
       "0  intruder  ['mov', 'mov', 'mov', 'mov', 'int', 'mov', 'mo...\n",
       "1  intruder  ['mov', 'mov', 'mov', 'mov', 'int', 'mov', 'cm...\n",
       "2  intruder  ['mov', 'mov', 'mov', 'mov', 'int', 'mov', 'mo...\n",
       "3  intruder  ['mov', 'mov', 'mov', 'mov', 'int', 'mov', 'mo...\n",
       "4  intruder  ['mov', 'mov', 'mov', 'mov', 'int', 'mov', 'mo..."
      ]
     },
     "execution_count": 7,
     "metadata": {},
     "output_type": "execute_result"
    }
   ],
   "source": [
    "df = pd.DataFrame({'label':result, 'file':files})\n",
    "df.head()"
   ]
  },
  {
   "cell_type": "code",
   "execution_count": 8,
   "metadata": {},
   "outputs": [
    {
     "name": "stdout",
     "output_type": "stream",
     "text": [
      "(203, 2)\n"
     ]
    },
    {
     "data": {
      "text/html": [
       "<div>\n",
       "<style scoped>\n",
       "    .dataframe tbody tr th:only-of-type {\n",
       "        vertical-align: middle;\n",
       "    }\n",
       "\n",
       "    .dataframe tbody tr th {\n",
       "        vertical-align: top;\n",
       "    }\n",
       "\n",
       "    .dataframe thead th {\n",
       "        text-align: right;\n",
       "    }\n",
       "</style>\n",
       "<table border=\"1\" class=\"dataframe\">\n",
       "  <thead>\n",
       "    <tr style=\"text-align: right;\">\n",
       "      <th></th>\n",
       "      <th>label</th>\n",
       "      <th>file</th>\n",
       "    </tr>\n",
       "  </thead>\n",
       "  <tbody>\n",
       "    <tr>\n",
       "      <th>0</th>\n",
       "      <td>1</td>\n",
       "      <td>['mov', 'mov', 'mov', 'mov', 'int', 'mov', 'mo...</td>\n",
       "    </tr>\n",
       "    <tr>\n",
       "      <th>1</th>\n",
       "      <td>1</td>\n",
       "      <td>['mov', 'mov', 'mov', 'mov', 'int', 'mov', 'cm...</td>\n",
       "    </tr>\n",
       "    <tr>\n",
       "      <th>2</th>\n",
       "      <td>1</td>\n",
       "      <td>['mov', 'mov', 'mov', 'mov', 'int', 'mov', 'mo...</td>\n",
       "    </tr>\n",
       "    <tr>\n",
       "      <th>3</th>\n",
       "      <td>1</td>\n",
       "      <td>['mov', 'mov', 'mov', 'mov', 'int', 'mov', 'mo...</td>\n",
       "    </tr>\n",
       "    <tr>\n",
       "      <th>4</th>\n",
       "      <td>1</td>\n",
       "      <td>['mov', 'mov', 'mov', 'mov', 'int', 'mov', 'mo...</td>\n",
       "    </tr>\n",
       "  </tbody>\n",
       "</table>\n",
       "</div>"
      ],
      "text/plain": [
       "   label                                               file\n",
       "0      1  ['mov', 'mov', 'mov', 'mov', 'int', 'mov', 'mo...\n",
       "1      1  ['mov', 'mov', 'mov', 'mov', 'int', 'mov', 'cm...\n",
       "2      1  ['mov', 'mov', 'mov', 'mov', 'int', 'mov', 'mo...\n",
       "3      1  ['mov', 'mov', 'mov', 'mov', 'int', 'mov', 'mo...\n",
       "4      1  ['mov', 'mov', 'mov', 'mov', 'int', 'mov', 'mo..."
      ]
     },
     "execution_count": 8,
     "metadata": {},
     "output_type": "execute_result"
    }
   ],
   "source": [
    "df.loc[:,'label'] = df.label.map({'timid':0, 'intruder':1})\n",
    "print(df.shape)\n",
    "df.head()"
   ]
  },
  {
   "cell_type": "code",
   "execution_count": 9,
   "metadata": {},
   "outputs": [
    {
     "data": {
      "text/plain": [
       "label    0\n",
       "file     0\n",
       "dtype: int64"
      ]
     },
     "execution_count": 9,
     "metadata": {},
     "output_type": "execute_result"
    }
   ],
   "source": [
    "df.isnull().sum()"
   ]
  },
  {
   "cell_type": "code",
   "execution_count": 10,
   "metadata": {},
   "outputs": [
    {
     "data": {
      "text/plain": [
       "['jmp', 'db', 'mov', 'mov', 'int', 'call', 'call', 'call', 'sub', 'mov', 'cmp', 'mov', 'int', 'call', 'jz', 'jmp', 'call', 'mov', 'mov', 'cmp', 'cmp', 'cmp', 'mov', 'call', 'int', 'mov', 'mov', 'int', 'mov', 'mov', 'mov', 'mov', 'mov', 'mov', 'cmp', 'cmp', 'mov', 'mov', 'cmp', 'ret', 'call', 'call', 'mov', 'mov', 'cmp', 'mov', 'int', 'call', 'or', 'jnz', 'jmp', 'call', 'jnz', 'jmp', 'mov', 'int', 'call', 'jmp', 'call', 'ret', 'mov', 'mov', 'cmp', 'mov', 'int', 'jnc', 'jmp', 'cmp', 'cmp', 'cmp', 'mov', 'push', 'mov', 'mov', 'mov', 'int', 'pop', 'mov', 'int', 'mov', 'add', 'jnc', 'jmp', 'cmp', 'jz', 'jmp', 'cmp', 'jz', 'jmp', 'mov', 'or', 'call', 'ret', 'xor', 'ret', 'call', 'mov', 'mov', 'int', 'mov', 'xor', 'mov', 'mov', 'mov', 'int', 'mov', 'mov', 'mov', 'cmp', 'cmp', 'cmp', 'cmp', 'cmp', 'cmp', 'cmp', 'cmp', 'cmp', 'cmp', 'mov', 'int', 'xor', 'mov', 'add', 'mov', 'mov', 'cmp', 'int', 'mov', 'cmp', 'cmp', 'cmp', 'cmp', 'cmp', 'cmp', 'cmp', 'cmp', 'cmp', 'cmp', 'cmp', 'cmp', 'cmp', 'xor', 'xor', 'mov', 'mov', 'mov', 'int', 'xor', 'mov', 'mov', 'cmp', 'mov', 'int', 'mov', 'mov', 'mov', 'add', 'mov', 'mov', 'mov', 'mov', 'mov', 'mov', 'int', 'mov', 'mov', 'cmp', 'int', 'call', 'call', 'call', 'ret']                                                                                                                                                                                                                                                                                                                                                                                                                                                                                                                                                                                                                                                                                                                                                                                                                                                                                                                                                                                                                                                                                                                                                                                                                                                                                                                                                                                                                                                                                                                                                                                                                                                                                                                                                                                                                                                                                                                                                                                                                                                                                                                                                                                                                                                                                                                                                                                                                                                                                                                                                                                                                                                                                                                                                                                                                                                                                                                                                                                                                                                                          4\n",
       "['jmp', 'db', 'mov', 'mov', 'int', 'call', 'call', 'call', 'sub', 'cmp', 'cmp', 'cmp', 'cmp', 'cmp', 'cmp', 'cmp', 'cmp', 'cmp', 'cmp', 'cmp', 'cmp', 'mov', 'cmp', 'mov', 'int', 'call', 'jz', 'jmp', 'call', 'mov', 'mov', 'cmp', 'cmp', 'cmp', 'mov', 'call', 'call', 'int', 'mov', 'mov', 'int', 'mov', 'mov', 'mov', 'cmp', 'mov', 'mov', 'mov', 'cmp', 'cmp', 'mov', 'mov', 'cmp', 'ret', 'call', 'call', 'mov', 'cmp', 'mov', 'cmp', 'mov', 'int', 'call', 'call', 'or', 'jnz', 'jmp', 'call', 'jnz', 'jmp', 'mov', 'int', 'call', 'jmp', 'call', 'ret', 'mov', 'mov', 'cmp', 'mov', 'int', 'jnc', 'jmp', 'cmp', 'cmp', 'cmp', 'cmp', 'cmp', 'cmp', 'cmp', 'cmp', 'cmp', 'cmp', 'cmp', 'cmp', 'cmp', 'cmp', 'cmp', 'mov', 'push', 'mov', 'mov', 'cmp', 'mov', 'cmp', 'int', 'pop', 'mov', 'int', 'mov', 'add', 'jnc', 'jmp', 'cmp', 'jz', 'jmp', 'cmp', 'jz', 'jmp', 'call', 'call', 'mov', 'or', 'call', 'ret', 'xor', 'ret', 'call', 'mov', 'mov', 'int', 'cmp', 'cmp', 'cmp', 'cmp', 'cmp', 'cmp', 'cmp', 'cmp', 'cmp', 'cmp', 'mov', 'xor', 'mov', 'mov', 'mov', 'int', 'mov', 'mov', 'mov', 'cmp', 'cmp', 'cmp', 'cmp', 'cmp', 'cmp', 'cmp', 'cmp', 'cmp', 'cmp', 'mov', 'int', 'xor', 'xor', 'xor', 'xor', 'xor', 'xor', 'xor', 'xor', 'xor', 'xor', 'xor', 'xor', 'mov', 'add', 'mov', 'mov', 'cmp', 'int', 'mov', 'cmp', 'cmp', 'cmp', 'cmp', 'cmp', 'cmp', 'cmp', 'cmp', 'cmp', 'cmp', 'cmp', 'cmp', 'cmp', 'xor', 'xor', 'mov', 'mov', 'mov', 'int', 'xor', 'mov', 'mov', 'cmp', 'mov', 'int', 'mov', 'mov', 'mov', 'add', 'mov', 'mov', 'mov', 'mov', 'mov', 'mov', 'int', 'xor', 'xor', 'xor', 'xor', 'xor', 'mov', 'mov', 'int', 'call', 'call', 'call', 'call', 'ret']                                                                                                                                                                                                                                                                                                                                                                                                                                                                                                                                                                                                                                                                                                                                                                                                                                                                                                                                                                                                                                                                                                                                                                                                                                                                                                                                                                                                                                                                                                                                                                                                                                                                                                                                                                                                                                                                                                                                                                                                                                                                                                                                                                                                                                                                                                                                                                                                                                                                                                                                                                                                                                               3\n",
       "['mov', 'mov', 'mov', 'mov', 'int', 'mov', 'mov', 'int', 'db', 'push', 'mov', 'mov', 'mov', 'mov', 'call', 'jz', 'call', 'call', 'call', 'jz', 'call', 'call', 'call', 'call', 'pop', 'mov', 'cli', 'mov', 'mov', 'mov', 'mov', 'cmp', 'sti', 'jmp', 'mov', 'mov', 'xor', 'xor', 'xor', 'xor', 'xor', 'xor', 'xor', 'xor', 'xor', 'xor', 'xor', 'xor', 'xor', 'xor', 'xor', 'mov', 'xor', 'mov', 'int', 'cmp', 'jz', 'xor', 'mov', 'mov', 'call', 'jnz', 'xor', 'mov', 'inc', 'mov', 'call', 'ret', 'call', 'jc', 'cmp', 'jnz', 'dec', 'mov', 'mov', 'call', 'inc', 'push', 'call', 'jz', 'pop', 'xor', 'stosb', 'mov', 'mov', 'mov', 'mov', 'mul', 'add', 'mov', 'call', 'push', 'call', 'jnz', 'call', 'jnz', 'inc', 'pop', 'xor', 'stosb', 'or', 'ret', 'call', 'call', 'ret', 'call', 'mov', 'mov', 'int', 'mov', 'mov', 'call', 'push', 'mov', 'cmp', 'mov', 'mov', 'int', 'or', 'jz', 'pop', 'inc', 'stosb', 'mov', 'mov', 'call', 'dec', 'push', 'call', 'jc', 'mov', 'cmp', 'int', 'jmp', 'pop', 'mov', 'stc', 'call', 'ret', 'pop', 'ret', 'call', 'push', 'mov', 'int', 'mov', 'mov', 'mov', 'int', 'pop', 'or', 'jz', 'test', 'jnz', 'cmp', 'je', 'call', 'push', 'mov', 'int', 'mov', 'int', 'jmp', 'xor', 'ret', 'mov', 'mov', 'mul', 'add', 'ret', 'mov', 'inc', 'or', 'jnz', 'dec', 'push', 'cld', 'lodsb', 'stosb', 'or', 'jnz', 'pop', 'ret', 'call', 'jnc', 'call', 'jnc', 'call', 'jnc', 'call', 'mov', 'mov', 'cmp', 'jnz', 'stc', 'ret', 'sub', 'ret', 'call', 'mov', 'mov', 'int', 'jnc', 'mov', 'mov', 'mov', 'mov', 'mov', 'int', 'mov', 'add', 'add', 'sub', 'add', 'add', 'sub', 'cmp', 'mov', 'add', 'mov', 'mul', 'mov', 'mov', 'mov', 'xor', 'xor', 'xor', 'xor', 'mov', 'int', 'mov', 'mov', 'mov', 'mov', 'int', 'jnc', 'mov', 'cmp', 'clc', 'jz', 'stc', 'mov', 'and', 'jnz', 'mov', 'sub', 'mov', 'add', 'adc', 'mov', 'mov', 'int', 'mov', 'mov', 'mov', 'mov', 'int', 'call', 'mov', 'xor', 'mov', 'mov', 'int', 'mov', 'mov', 'mov', 'inc', 'add', 'mov', 'adc', 'mov', 'mov', 'int', 'mov', 'mov', 'mov', 'mov', 'int', 'mov', 'mov', 'mov', 'inc', 'add', 'mov', 'adc', 'mov', 'mov', 'int', 'mov', 'mov', 'mov', 'mov', 'int', 'mov', 'mov', 'mov', 'add', 'add', 'mov', 'adc', 'mov', 'mov', 'int', 'mov', 'mov', 'mov', 'mov', 'int', 'xor', 'xor', 'mov', 'mov', 'int', 'mov', 'mov', 'shr', 'mov', 'and', 'mov', 'shl', 'add', 'sub', 'mov', 'mov', 'add', 'mov', 'shr', 'add', 'mov', 'mov', 'mov', 'mov', 'mov', 'mov', 'mov', 'mov', 'add', 'xor', 'adc', 'add', 'adc', 'push', 'mov', 'shr', 'mov', 'shl', 'add', 'mov', 'pop', 'and', 'mov', 'mov', 'add', 'mov', 'mov', 'mov', 'mov', 'int', 'mov', 'dec', 'dec', 'mov', 'mul', 'add', 'mov', 'adc', 'mov', 'mov', 'mov', 'mov', 'int', 'mov', 'mov', 'inc', 'mov', 'mov', 'mov', 'mov', 'cmp', 'add', 'mov', 'mov', 'mov', 'mov', 'mov', 'mov', 'int', 'ret', 'call', 'xor', 'int', 'and', 'ret', 'mov', 'mov', 'call', 'ret', 'mov', 'int', 'mov', 'mov', 'cmp', 'mov', 'mov', 'mov', 'mov', 'mov', 'int', 'ret', 'mov', 'mov', 'mov', 'mov', 'int', 'mov', 'mov', 'ret', 'mov', 'mov', 'mov', 'int', 'mov', 'mov', 'mov', 'mov', 'mov', 'int', 'mov', 'mov', 'mov', 'int', 'mov', 'mov', 'xor', 'mov', 'int', 'mov', 'mov', 'mov', 'mov', 'mov', 'mov', 'ret', 'mov', 'mov', 'mov', 'mov', 'mov', 'int', 'mov', 'mov', 'int', 'mov', 'xor', 'mov', 'mov', 'mov', 'int', 'ret', 'db']                                                                                                                                                                                                                                                                                                                                                                                                                                                                                                                                                                                                                                                                                                                                                                                                                                                                                                                                                  2\n",
       "['jmp', 'db', 'mov', 'cmp', 'cmp', 'mov', 'cmp', 'call', 'int', 'call', 'sub', 'mov', 'mov', 'int', 'call', 'jz', 'jmp', 'call', 'mov', 'xor', 'xor', 'xor', 'xor', 'xor', 'xor', 'mov', 'mov', 'call', 'call', 'call', 'int', 'mov', 'mov', 'int', 'mov', 'cmp', 'mov', 'mov', 'cmp', 'xor', 'xor', 'xor', 'xor', 'xor', 'xor', 'xor', 'xor', 'xor', 'xor', 'xor', 'mov', 'cmp', 'mov', 'mov', 'mov', 'mov', 'ret', 'call', 'call', 'call', 'mov', 'mov', 'cmp', 'cmp', 'mov', 'int', 'call', 'call', 'or', 'jnz', 'jmp', 'call', 'jnz', 'jmp', 'mov', 'cmp', 'int', 'jmp', 'ret', 'call', 'call', 'call', 'call', 'mov', 'cmp', 'mov', 'xor', 'xor', 'xor', 'xor', 'xor', 'xor', 'xor', 'xor', 'xor', 'xor', 'xor', 'xor', 'xor', 'xor', 'xor', 'mov', 'cmp', 'int', 'jnc', 'jmp', 'mov', 'push', 'mov', 'mov', 'mov', 'int', 'pop', 'mov', 'cmp', 'int', 'mov', 'add', 'jnc', 'jmp', 'cmp', 'jz', 'jmp', 'cmp', 'jz', 'jmp', 'call', 'call', 'call', 'mov', 'or', 'ret', 'xor', 'ret', 'call', 'call', 'call', 'call', 'call', 'call', 'mov', 'mov', 'cmp', 'int', 'mov', 'xor', 'mov', 'mov', 'cmp', 'mov', 'int', 'cmp', 'cmp', 'cmp', 'cmp', 'cmp', 'cmp', 'mov', 'cmp', 'cmp', 'mov', 'xor', 'xor', 'xor', 'xor', 'xor', 'xor', 'xor', 'xor', 'xor', 'xor', 'xor', 'xor', 'xor', 'mov', 'mov', 'int', 'xor', 'mov', 'add', 'mov', 'mov', 'cmp', 'int', 'mov', 'mov', 'mov', 'mov', 'int', 'xor', 'mov', 'mov', 'mov', 'int', 'mov', 'mov', 'mov', 'add', 'mov', 'mov', 'mov', 'mov', 'mov', 'mov', 'int', 'mov', 'mov', 'int', 'call', 'call', 'call', 'ret']                                                                                                                                                                                                                                                                                                                                                                                                                                                                                                                                                                                                                                                                                                                                                                                                                                                                                                                                                                                                                                                                                                                                                                                                                                                                                                                                                                                                                                                                                                                                                                                                                                                                                                                                                                                                                                                                                                                                                                                                                                                                                                                                                                                                                                                                                                                                                                                                                                                                                                                                                                                                                                                                                                                                                                      2\n",
       "['mov', 'mov', 'mov', 'mov', 'int', 'cmp', 'cmp', 'cmp', 'cmp', 'cmp', 'cmp', 'cmp', 'cmp', 'cmp', 'cmp', 'cmp', 'cmp', 'cmp', 'cmp', 'cmp', 'cmp', 'mov', 'mov', 'int', 'db', 'push', 'mov', 'mov', 'mov', 'mov', 'call', 'jz', 'call', 'call', 'call', 'jz', 'call', 'call', 'call', 'pop', 'mov', 'cli', 'call', 'mov', 'mov', 'mov', 'mov', 'call', 'sti', 'jmp', 'mov', 'xor', 'xor', 'xor', 'xor', 'xor', 'mov', 'mov', 'xor', 'mov', 'int', 'cmp', 'jz', 'xor', 'mov', 'call', 'mov', 'call', 'jnz', 'xor', 'mov', 'cmp', 'inc', 'mov', 'call', 'call', 'ret', 'call', 'jc', 'cmp', 'jnz', 'dec', 'mov', 'mov', 'call', 'inc', 'push', 'call', 'jz', 'call', 'call', 'pop', 'xor', 'stosb', 'mov', 'mov', 'cmp', 'mov', 'mov', 'mul', 'add', 'mov', 'call', 'push', 'call', 'jnz', 'call', 'jnz', 'call', 'call', 'inc', 'pop', 'xor', 'stosb', 'or', 'call', 'ret', 'ret', 'xor', 'mov', 'mov', 'int', 'mov', 'mov', 'call', 'push', 'xor', 'xor', 'xor', 'xor', 'xor', 'xor', 'xor', 'xor', 'xor', 'xor', 'xor', 'xor', 'xor', 'xor', 'xor', 'xor', 'xor', 'xor', 'mov', 'mov', 'mov', 'cmp', 'call', 'call', 'int', 'or', 'jz', 'pop', 'inc', 'stosb', 'mov', 'mov', 'cmp', 'call', 'dec', 'push', 'call', 'jc', 'mov', 'int', 'call', 'jmp', 'pop', 'mov', 'stc', 'ret', 'pop', 'ret', 'call', 'push', 'mov', 'int', 'mov', 'mov', 'mov', 'int', 'pop', 'or', 'jz', 'test', 'jnz', 'cmp', 'je', 'call', 'push', 'mov', 'int', 'mov', 'int', 'jmp', 'xor', 'call', 'ret', 'mov', 'mov', 'mul', 'add', 'ret', 'mov', 'inc', 'or', 'jnz', 'dec', 'push', 'cld', 'lodsb', 'stosb', 'or', 'jnz', 'pop', 'ret', 'call', 'jnc', 'call', 'jnc', 'call', 'jnc', 'call', 'mov', 'mov', 'cmp', 'jnz', 'stc', 'ret', 'sub', 'ret', 'mov', 'cmp', 'cmp', 'cmp', 'cmp', 'cmp', 'cmp', 'cmp', 'cmp', 'cmp', 'cmp', 'cmp', 'cmp', 'cmp', 'cmp', 'cmp', 'cmp', 'mov', 'int', 'jnc', 'mov', 'mov', 'mov', 'mov', 'mov', 'int', 'call', 'mov', 'add', 'add', 'sub', 'add', 'add', 'sub', 'call', 'cmp', 'mov', 'add', 'mov', 'cmp', 'mul', 'mov', 'mov', 'mov', 'mov', 'int', 'mov', 'mov', 'cmp', 'cmp', 'cmp', 'cmp', 'cmp', 'cmp', 'cmp', 'cmp', 'cmp', 'cmp', 'cmp', 'cmp', 'cmp', 'cmp', 'mov', 'mov', 'int', 'jnc', 'mov', 'cmp', 'clc', 'jz', 'call', 'stc', 'mov', 'and', 'jnz', 'mov', 'sub', 'mov', 'add', 'adc', 'mov', 'mov', 'call', 'int', 'call', 'call', 'mov', 'mov', 'mov', 'mov', 'int', 'call', 'mov', 'xor', 'mov', 'mov', 'int', 'mov', 'mov', 'cmp', 'cmp', 'cmp', 'cmp', 'cmp', 'cmp', 'cmp', 'mov', 'inc', 'add', 'mov', 'adc', 'mov', 'mov', 'int', 'mov', 'cmp', 'mov', 'mov', 'mov', 'int', 'mov', 'mov', 'mov', 'inc', 'add', 'mov', 'adc', 'mov', 'xor', 'mov', 'int', 'mov', 'mov', 'mov', 'mov', 'int', 'mov', 'mov', 'mov', 'add', 'add', 'mov', 'adc', 'mov', 'mov', 'int', 'mov', 'mov', 'mov', 'mov', 'int', 'xor', 'xor', 'mov', 'mov', 'int', 'mov', 'mov', 'shr', 'mov', 'and', 'mov', 'shl', 'add', 'sub', 'mov', 'mov', 'add', 'mov', 'shr', 'add', 'mov', 'mov', 'mov', 'mov', 'mov', 'mov', 'mov', 'mov', 'add', 'xor', 'adc', 'add', 'adc', 'push', 'mov', 'shr', 'mov', 'shl', 'add', 'mov', 'pop', 'and', 'mov', 'mov', 'add', 'mov', 'mov', 'mov', 'mov', 'int', 'mov', 'dec', 'dec', 'mov', 'mul', 'add', 'mov', 'adc', 'mov', 'mov', 'mov', 'mov', 'int', 'mov', 'mov', 'inc', 'mov', 'mov', 'mov', 'mov', 'add', 'mov', 'mov', 'mov', 'mov', 'mov', 'mov', 'int', 'ret', 'call', 'xor', 'int', 'and', 'ret', 'mov', 'cmp', 'cmp', 'cmp', 'cmp', 'cmp', 'cmp', 'cmp', 'cmp', 'cmp', 'cmp', 'cmp', 'cmp', 'mov', 'ret', 'mov', 'int', 'cmp', 'cmp', 'cmp', 'cmp', 'cmp', 'cmp', 'cmp', 'cmp', 'cmp', 'cmp', 'cmp', 'cmp', 'cmp', 'cmp', 'cmp', 'mov', 'mov', 'mov', 'mov', 'mov', 'mov', 'mov', 'int', 'ret', 'mov', 'cmp', 'cmp', 'cmp', 'cmp', 'cmp', 'cmp', 'cmp', 'cmp', 'mov', 'mov', 'mov', 'int', 'mov', 'mov', 'ret', 'mov', 'mov', 'mov', 'int', 'mov', 'mov', 'mov', 'mov', 'mov', 'int', 'mov', 'mov', 'mov', 'int', 'mov', 'mov', 'xor', 'mov', 'int', 'mov', 'mov', 'mov', 'mov', 'mov', 'mov', 'ret', 'call', 'mov', 'mov', 'mov', 'cmp', 'cmp', 'cmp', 'cmp', 'cmp', 'cmp', 'cmp', 'cmp', 'cmp', 'cmp', 'cmp', 'cmp', 'cmp', 'cmp', 'cmp', 'cmp', 'cmp', 'mov', 'cmp', 'mov', 'int', 'mov', 'cmp', 'mov', 'int', 'mov', 'xor', 'mov', 'mov', 'mov', 'int', 'call', 'ret', 'db']    2\n",
       "                                                                                                                                                                                                                                                                                                                                                                                                                                                                                                                                                                                                                                                                                                                                                                                                                                                                                                                                                                                                                                                                                                                                                                                                                                                                                                                                                                                                                                                                                                                                                                                                                                                                                                                                                                                                                                                                                                                                                                                                                                                                                                                                                                                                                                                                                                                                                                                                                                                                                                                                                                                                                                                                                                                                                                                                                                                                                                                                                                                                                                                                                                                                                                                                                                                                                                                                                                                                                                                                                                                                                                                                                                                                                                                                                                                                                                                                                                                                                                                                                                                                                                                                                                                                                                                                                                                                         ..\n",
       "['mov', 'mov', 'mov', 'mov', 'int', 'cmp', 'cmp', 'cmp', 'cmp', 'cmp', 'cmp', 'cmp', 'cmp', 'cmp', 'cmp', 'cmp', 'cmp', 'cmp', 'cmp', 'cmp', 'cmp', 'mov', 'mov', 'int', 'db', 'push', 'mov', 'mov', 'mov', 'mov', 'call', 'jz', 'call', 'call', 'call', 'jz', 'call', 'call', 'call', 'pop', 'mov', 'cli', 'call', 'mov', 'mov', 'mov', 'mov', 'sti', 'jmp', 'mov', 'xor', 'xor', 'xor', 'xor', 'xor', 'mov', 'mov', 'xor', 'mov', 'int', 'cmp', 'jz', 'xor', 'mov', 'call', 'mov', 'call', 'jnz', 'xor', 'mov', 'cmp', 'inc', 'mov', 'call', 'call', 'ret', 'call', 'jc', 'cmp', 'jnz', 'dec', 'mov', 'mov', 'call', 'inc', 'push', 'call', 'jz', 'call', 'pop', 'xor', 'stosb', 'mov', 'mov', 'mov', 'mov', 'mul', 'add', 'mov', 'call', 'push', 'call', 'jnz', 'call', 'jnz', 'call', 'call', 'inc', 'pop', 'xor', 'stosb', 'or', 'call', 'ret', 'ret', 'xor', 'mov', 'mov', 'int', 'mov', 'mov', 'call', 'push', 'xor', 'xor', 'xor', 'xor', 'xor', 'xor', 'xor', 'xor', 'xor', 'xor', 'xor', 'xor', 'xor', 'xor', 'xor', 'xor', 'xor', 'xor', 'mov', 'mov', 'mov', 'call', 'int', 'or', 'jz', 'pop', 'inc', 'stosb', 'mov', 'mov', 'cmp', 'call', 'dec', 'push', 'call', 'jc', 'mov', 'int', 'call', 'jmp', 'pop', 'mov', 'stc', 'ret', 'pop', 'ret', 'call', 'push', 'mov', 'int', 'mov', 'mov', 'mov', 'int', 'pop', 'or', 'jz', 'test', 'jnz', 'cmp', 'je', 'call', 'push', 'mov', 'int', 'mov', 'int', 'jmp', 'xor', 'ret', 'mov', 'mov', 'mul', 'add', 'ret', 'mov', 'inc', 'or', 'jnz', 'dec', 'push', 'cld', 'lodsb', 'stosb', 'or', 'jnz', 'pop', 'ret', 'call', 'jnc', 'call', 'jnc', 'call', 'jnc', 'call', 'mov', 'mov', 'cmp', 'jnz', 'stc', 'ret', 'sub', 'ret', 'mov', 'cmp', 'cmp', 'cmp', 'cmp', 'cmp', 'cmp', 'cmp', 'cmp', 'cmp', 'cmp', 'cmp', 'cmp', 'cmp', 'cmp', 'cmp', 'cmp', 'mov', 'int', 'jnc', 'mov', 'mov', 'mov', 'mov', 'mov', 'int', 'call', 'mov', 'add', 'add', 'sub', 'add', 'add', 'sub', 'call', 'cmp', 'mov', 'add', 'mov', 'cmp', 'mul', 'mov', 'mov', 'mov', 'mov', 'int', 'mov', 'mov', 'cmp', 'cmp', 'cmp', 'cmp', 'cmp', 'cmp', 'cmp', 'cmp', 'cmp', 'cmp', 'cmp', 'cmp', 'cmp', 'cmp', 'mov', 'mov', 'int', 'jnc', 'mov', 'cmp', 'clc', 'jz', 'stc', 'mov', 'cmp', 'and', 'jnz', 'mov', 'sub', 'mov', 'add', 'adc', 'mov', 'mov', 'call', 'int', 'call', 'call', 'mov', 'mov', 'mov', 'mov', 'int', 'call', 'mov', 'xor', 'mov', 'mov', 'int', 'mov', 'mov', 'cmp', 'cmp', 'cmp', 'cmp', 'cmp', 'cmp', 'cmp', 'mov', 'inc', 'add', 'mov', 'adc', 'mov', 'mov', 'int', 'mov', 'cmp', 'mov', 'mov', 'mov', 'int', 'mov', 'mov', 'mov', 'inc', 'add', 'mov', 'adc', 'mov', 'xor', 'mov', 'int', 'mov', 'mov', 'mov', 'mov', 'int', 'mov', 'mov', 'mov', 'add', 'add', 'mov', 'adc', 'mov', 'mov', 'int', 'mov', 'mov', 'mov', 'mov', 'int', 'xor', 'xor', 'mov', 'mov', 'int', 'mov', 'mov', 'shr', 'mov', 'and', 'mov', 'shl', 'add', 'sub', 'mov', 'mov', 'add', 'mov', 'shr', 'add', 'mov', 'mov', 'mov', 'mov', 'mov', 'mov', 'mov', 'mov', 'add', 'xor', 'adc', 'add', 'adc', 'push', 'mov', 'shr', 'mov', 'shl', 'add', 'mov', 'pop', 'and', 'mov', 'mov', 'add', 'mov', 'mov', 'mov', 'mov', 'int', 'mov', 'dec', 'dec', 'mov', 'mul', 'add', 'mov', 'adc', 'mov', 'mov', 'mov', 'mov', 'int', 'mov', 'mov', 'inc', 'mov', 'mov', 'mov', 'mov', 'add', 'mov', 'mov', 'mov', 'mov', 'mov', 'mov', 'int', 'ret', 'call', 'xor', 'int', 'and', 'ret', 'mov', 'cmp', 'cmp', 'cmp', 'cmp', 'cmp', 'cmp', 'cmp', 'cmp', 'cmp', 'cmp', 'cmp', 'cmp', 'mov', 'ret', 'mov', 'int', 'cmp', 'cmp', 'cmp', 'cmp', 'cmp', 'cmp', 'cmp', 'cmp', 'cmp', 'cmp', 'cmp', 'cmp', 'cmp', 'cmp', 'cmp', 'mov', 'mov', 'mov', 'mov', 'mov', 'mov', 'mov', 'int', 'ret', 'mov', 'mov', 'mov', 'mov', 'int', 'mov', 'mov', 'ret', 'mov', 'mov', 'mov', 'int', 'mov', 'mov', 'mov', 'mov', 'mov', 'int', 'mov', 'mov', 'mov', 'int', 'mov', 'mov', 'xor', 'mov', 'int', 'mov', 'mov', 'mov', 'mov', 'mov', 'mov', 'ret', 'call', 'mov', 'mov', 'mov', 'cmp', 'cmp', 'cmp', 'cmp', 'cmp', 'cmp', 'cmp', 'cmp', 'cmp', 'cmp', 'cmp', 'cmp', 'cmp', 'cmp', 'cmp', 'cmp', 'cmp', 'mov', 'cmp', 'mov', 'int', 'mov', 'cmp', 'mov', 'int', 'mov', 'xor', 'mov', 'mov', 'mov', 'int', 'call', 'ret', 'db']                                                                                                           1\n",
       "['jmp', 'db', 'mov', 'mov', 'int', 'call', 'sub', 'mov', 'mov', 'int', 'call', 'jz', 'jmp', 'call', 'mov', 'cmp', 'xor', 'xor', 'xor', 'xor', 'xor', 'xor', 'mov', 'mov', 'call', 'int', 'mov', 'mov', 'int', 'mov', 'cmp', 'mov', 'mov', 'mov', 'mov', 'mov', 'mov', 'mov', 'call', 'ret', 'call', 'mov', 'mov', 'mov', 'call', 'int', 'or', 'jnz', 'jmp', 'call', 'jnz', 'jmp', 'mov', 'int', 'jmp', 'ret', 'call', 'call', 'mov', 'cmp', 'mov', 'mov', 'int', 'jnc', 'jmp', 'mov', 'push', 'mov', 'mov', 'mov', 'int', 'pop', 'mov', 'cmp', 'int', 'mov', 'add', 'jnc', 'jmp', 'cmp', 'jz', 'jmp', 'cmp', 'jz', 'jmp', 'call', 'call', 'mov', 'or', 'ret', 'xor', 'ret', 'call', 'call', 'mov', 'mov', 'int', 'mov', 'xor', 'mov', 'mov', 'cmp', 'mov', 'int', 'mov', 'mov', 'mov', 'mov', 'int', 'xor', 'mov', 'add', 'mov', 'mov', 'cmp', 'int', 'mov', 'mov', 'mov', 'mov', 'int', 'xor', 'mov', 'mov', 'mov', 'int', 'mov', 'mov', 'mov', 'add', 'mov', 'mov', 'mov', 'mov', 'mov', 'mov', 'cmp', 'int', 'mov', 'mov', 'int', 'call', 'call', 'ret']                                                                                                                                                                                                                                                                                                                                                                                                                                                                                                                                                                                                                                                                                                                                                                                                                                                                                                                                                                                                                                                                                                                                                                                                                                                                                                                                                                                                                                                                                                                                                                                                                                                                                                                                                                                                                                                                                                                                                                                                                                                                                                                                                                                                                                                                                                                                                                                                                                                                                                                                                                                                                                                                                                                                                                                                                                                                                                                                                                                                                                                                                                                                                                                                                                                                               1\n",
       "['mov', 'mov', 'mov', 'mov', 'int', 'mov', 'mov', 'int', 'db', 'push', 'mov', 'mov', 'mov', 'mov', 'call', 'jz', 'call', 'call', 'call', 'jz', 'call', 'call', 'call', 'call', 'pop', 'mov', 'cli', 'mov', 'mov', 'mov', 'mov', 'cmp', 'sti', 'jmp', 'mov', 'mov', 'mov', 'xor', 'mov', 'int', 'cmp', 'jz', 'xor', 'mov', 'mov', 'call', 'jnz', 'xor', 'mov', 'inc', 'mov', 'call', 'ret', 'call', 'jc', 'cmp', 'jnz', 'dec', 'mov', 'mov', 'call', 'inc', 'push', 'call', 'jz', 'pop', 'xor', 'stosb', 'mov', 'mov', 'mov', 'mov', 'mul', 'add', 'mov', 'call', 'push', 'call', 'jnz', 'call', 'jnz', 'inc', 'pop', 'xor', 'stosb', 'or', 'ret', 'ret', 'call', 'mov', 'mov', 'int', 'mov', 'mov', 'call', 'push', 'mov', 'cmp', 'mov', 'mov', 'int', 'or', 'jz', 'pop', 'inc', 'stosb', 'mov', 'mov', 'call', 'dec', 'push', 'call', 'jc', 'mov', 'int', 'jmp', 'pop', 'mov', 'stc', 'ret', 'pop', 'ret', 'call', 'push', 'mov', 'int', 'mov', 'mov', 'mov', 'int', 'pop', 'or', 'jz', 'test', 'jnz', 'cmp', 'je', 'call', 'push', 'mov', 'int', 'mov', 'int', 'jmp', 'xor', 'ret', 'mov', 'mov', 'mul', 'add', 'ret', 'mov', 'inc', 'or', 'jnz', 'dec', 'push', 'cld', 'lodsb', 'stosb', 'or', 'jnz', 'pop', 'ret', 'call', 'jnc', 'call', 'jnc', 'call', 'jnc', 'call', 'mov', 'mov', 'cmp', 'jnz', 'stc', 'ret', 'sub', 'ret', 'call', 'mov', 'mov', 'int', 'jnc', 'mov', 'mov', 'mov', 'mov', 'mov', 'int', 'mov', 'add', 'add', 'sub', 'add', 'add', 'sub', 'cmp', 'mov', 'add', 'mov', 'mul', 'mov', 'mov', 'mov', 'mov', 'int', 'mov', 'mov', 'mov', 'mov', 'int', 'jnc', 'mov', 'cmp', 'clc', 'jz', 'stc', 'mov', 'and', 'jnz', 'mov', 'sub', 'mov', 'add', 'adc', 'mov', 'mov', 'int', 'mov', 'mov', 'mov', 'mov', 'int', 'call', 'mov', 'xor', 'mov', 'mov', 'int', 'mov', 'mov', 'mov', 'inc', 'add', 'mov', 'adc', 'mov', 'mov', 'int', 'mov', 'mov', 'mov', 'mov', 'int', 'mov', 'mov', 'mov', 'inc', 'add', 'mov', 'adc', 'mov', 'mov', 'int', 'mov', 'mov', 'mov', 'mov', 'int', 'mov', 'mov', 'mov', 'add', 'add', 'mov', 'adc', 'mov', 'mov', 'int', 'mov', 'mov', 'mov', 'mov', 'int', 'xor', 'xor', 'mov', 'mov', 'int', 'mov', 'mov', 'shr', 'mov', 'and', 'mov', 'shl', 'add', 'sub', 'mov', 'mov', 'add', 'mov', 'shr', 'add', 'mov', 'mov', 'mov', 'mov', 'mov', 'mov', 'mov', 'mov', 'add', 'xor', 'adc', 'add', 'adc', 'push', 'mov', 'shr', 'mov', 'shl', 'add', 'mov', 'pop', 'and', 'mov', 'mov', 'add', 'mov', 'mov', 'mov', 'mov', 'int', 'mov', 'dec', 'dec', 'mov', 'mul', 'add', 'mov', 'adc', 'mov', 'mov', 'mov', 'mov', 'int', 'mov', 'mov', 'inc', 'mov', 'mov', 'mov', 'mov', 'add', 'mov', 'mov', 'mov', 'mov', 'mov', 'mov', 'int', 'ret', 'xor', 'int', 'and', 'ret', 'mov', 'mov', 'ret', 'mov', 'int', 'mov', 'mov', 'mov', 'mov', 'mov', 'mov', 'mov', 'int', 'ret', 'mov', 'mov', 'mov', 'mov', 'int', 'mov', 'mov', 'ret', 'mov', 'mov', 'mov', 'int', 'mov', 'mov', 'mov', 'mov', 'mov', 'int', 'mov', 'mov', 'mov', 'int', 'mov', 'mov', 'xor', 'mov', 'int', 'mov', 'mov', 'mov', 'mov', 'mov', 'mov', 'ret', 'mov', 'mov', 'mov', 'mov', 'mov', 'int', 'mov', 'mov', 'int', 'mov', 'xor', 'mov', 'mov', 'mov', 'int', 'ret', 'db']                                                                                                                                                                                                                                                                                                                                                                                                                                                                                                                                                                                                                                                                                                                                                                                                                                                                                                                                                                                                                                                                                                                                                    1\n",
       "['mov', 'mov', 'mov', 'mov', 'int', 'mov', 'cmp', 'cmp', 'cmp', 'cmp', 'cmp', 'cmp', 'cmp', 'cmp', 'cmp', 'cmp', 'cmp', 'mov', 'int', 'db', 'call', 'push', 'mov', 'mov', 'mov', 'mov', 'call', 'jz', 'call', 'call', 'call', 'jz', 'call', 'call', 'call', 'call', 'call', 'pop', 'mov', 'cli', 'mov', 'mov', 'mov', 'mov', 'sti', 'jmp', 'mov', 'mov', 'mov', 'xor', 'mov', 'int', 'cmp', 'jz', 'xor', 'mov', 'mov', 'call', 'jnz', 'xor', 'mov', 'inc', 'cmp', 'cmp', 'cmp', 'cmp', 'mov', 'call', 'call', 'ret', 'call', 'jc', 'cmp', 'jnz', 'dec', 'mov', 'mov', 'call', 'inc', 'push', 'call', 'jz', 'pop', 'xor', 'stosb', 'mov', 'mov', 'mov', 'mov', 'mul', 'add', 'mov', 'call', 'push', 'call', 'jnz', 'call', 'jnz', 'call', 'inc', 'pop', 'xor', 'stosb', 'or', 'call', 'call', 'ret', 'call', 'ret', 'mov', 'mov', 'int', 'mov', 'mov', 'call', 'push', 'mov', 'cmp', 'mov', 'mov', 'cmp', 'call', 'int', 'or', 'jz', 'pop', 'inc', 'stosb', 'mov', 'mov', 'call', 'dec', 'push', 'call', 'jc', 'mov', 'int', 'jmp', 'pop', 'mov', 'stc', 'ret', 'pop', 'ret', 'call', 'call', 'push', 'mov', 'int', 'mov', 'mov', 'cmp', 'cmp', 'cmp', 'cmp', 'cmp', 'cmp', 'cmp', 'cmp', 'mov', 'int', 'pop', 'or', 'jz', 'test', 'jnz', 'cmp', 'je', 'call', 'push', 'mov', 'cmp', 'int', 'mov', 'int', 'jmp', 'xor', 'call', 'ret', 'mov', 'mov', 'mul', 'add', 'call', 'ret', 'mov', 'inc', 'or', 'jnz', 'dec', 'push', 'cld', 'lodsb', 'stosb', 'or', 'jnz', 'pop', 'ret', 'call', 'jnc', 'call', 'jnc', 'call', 'jnc', 'call', 'mov', 'mov', 'cmp', 'jnz', 'stc', 'ret', 'sub', 'ret', 'mov', 'cmp', 'cmp', 'cmp', 'cmp', 'cmp', 'cmp', 'cmp', 'cmp', 'cmp', 'cmp', 'cmp', 'cmp', 'cmp', 'cmp', 'cmp', 'cmp', 'mov', 'int', 'jnc', 'mov', 'mov', 'mov', 'mov', 'mov', 'int', 'call', 'mov', 'add', 'add', 'sub', 'add', 'add', 'sub', 'cmp', 'mov', 'add', 'mov', 'mul', 'mov', 'mov', 'mov', 'mov', 'int', 'mov', 'mov', 'mov', 'mov', 'int', 'jnc', 'mov', 'cmp', 'clc', 'jz', 'stc', 'mov', 'cmp', 'and', 'jnz', 'mov', 'sub', 'mov', 'add', 'adc', 'mov', 'mov', 'call', 'int', 'call', 'call', 'mov', 'mov', 'mov', 'mov', 'int', 'call', 'mov', 'xor', 'mov', 'mov', 'int', 'mov', 'mov', 'mov', 'inc', 'add', 'mov', 'adc', 'mov', 'mov', 'int', 'mov', 'cmp', 'mov', 'mov', 'mov', 'int', 'mov', 'mov', 'mov', 'inc', 'add', 'mov', 'adc', 'mov', 'xor', 'mov', 'int', 'mov', 'mov', 'mov', 'mov', 'int', 'mov', 'mov', 'mov', 'add', 'add', 'mov', 'adc', 'mov', 'mov', 'int', 'mov', 'mov', 'mov', 'mov', 'int', 'xor', 'xor', 'mov', 'mov', 'int', 'mov', 'mov', 'shr', 'mov', 'and', 'mov', 'shl', 'add', 'sub', 'mov', 'mov', 'add', 'mov', 'shr', 'add', 'mov', 'mov', 'mov', 'mov', 'mov', 'mov', 'mov', 'mov', 'add', 'xor', 'adc', 'add', 'adc', 'push', 'mov', 'shr', 'mov', 'shl', 'add', 'mov', 'pop', 'and', 'mov', 'mov', 'add', 'mov', 'mov', 'mov', 'mov', 'int', 'mov', 'dec', 'dec', 'mov', 'mul', 'add', 'mov', 'adc', 'mov', 'mov', 'mov', 'mov', 'int', 'mov', 'mov', 'inc', 'mov', 'mov', 'mov', 'mov', 'add', 'mov', 'mov', 'mov', 'mov', 'mov', 'mov', 'int', 'ret', 'call', 'xor', 'int', 'and', 'ret', 'mov', 'cmp', 'cmp', 'cmp', 'cmp', 'cmp', 'cmp', 'cmp', 'cmp', 'cmp', 'cmp', 'cmp', 'cmp', 'mov', 'ret', 'mov', 'int', 'cmp', 'cmp', 'cmp', 'cmp', 'cmp', 'cmp', 'cmp', 'cmp', 'cmp', 'cmp', 'cmp', 'cmp', 'cmp', 'cmp', 'cmp', 'mov', 'mov', 'mov', 'mov', 'mov', 'mov', 'mov', 'int', 'ret', 'mov', 'mov', 'mov', 'mov', 'int', 'mov', 'mov', 'ret', 'mov', 'mov', 'mov', 'int', 'mov', 'mov', 'mov', 'mov', 'mov', 'int', 'mov', 'mov', 'mov', 'int', 'mov', 'mov', 'xor', 'mov', 'int', 'mov', 'mov', 'mov', 'mov', 'mov', 'mov', 'ret', 'call', 'mov', 'mov', 'mov', 'cmp', 'cmp', 'cmp', 'cmp', 'cmp', 'cmp', 'cmp', 'cmp', 'cmp', 'cmp', 'cmp', 'cmp', 'cmp', 'cmp', 'cmp', 'cmp', 'cmp', 'mov', 'cmp', 'mov', 'int', 'mov', 'cmp', 'mov', 'int', 'mov', 'xor', 'mov', 'mov', 'mov', 'int', 'call', 'ret', 'db']                                                                                                                                                                                                                                                                                                                                                                     1\n",
       "['mov', 'mov', 'mov', 'mov', 'int', 'cmp', 'cmp', 'cmp', 'cmp', 'cmp', 'cmp', 'cmp', 'cmp', 'cmp', 'cmp', 'cmp', 'cmp', 'cmp', 'cmp', 'cmp', 'cmp', 'mov', 'mov', 'int', 'db', 'push', 'mov', 'mov', 'mov', 'mov', 'call', 'jz', 'call', 'call', 'call', 'jz', 'call', 'call', 'call', 'pop', 'mov', 'cli', 'call', 'mov', 'mov', 'mov', 'mov', 'call', 'sti', 'jmp', 'mov', 'xor', 'xor', 'xor', 'xor', 'xor', 'mov', 'mov', 'xor', 'mov', 'int', 'cmp', 'jz', 'xor', 'mov', 'call', 'mov', 'call', 'jnz', 'xor', 'mov', 'cmp', 'inc', 'mov', 'call', 'call', 'ret', 'call', 'jc', 'cmp', 'jnz', 'dec', 'mov', 'mov', 'call', 'inc', 'push', 'call', 'jz', 'call', 'call', 'pop', 'xor', 'stosb', 'mov', 'mov', 'cmp', 'mov', 'mov', 'mul', 'add', 'mov', 'call', 'push', 'call', 'jnz', 'call', 'jnz', 'call', 'call', 'inc', 'pop', 'xor', 'stosb', 'or', 'call', 'ret', 'ret', 'xor', 'mov', 'mov', 'int', 'mov', 'mov', 'call', 'push', 'xor', 'xor', 'xor', 'xor', 'xor', 'xor', 'xor', 'xor', 'xor', 'xor', 'xor', 'xor', 'xor', 'xor', 'xor', 'xor', 'xor', 'xor', 'mov', 'cmp', 'mov', 'mov', 'call', 'call', 'call', 'int', 'or', 'jz', 'pop', 'inc', 'stosb', 'mov', 'mov', 'cmp', 'call', 'dec', 'push', 'call', 'jc', 'mov', 'int', 'call', 'jmp', 'pop', 'mov', 'stc', 'ret', 'pop', 'ret', 'call', 'push', 'mov', 'int', 'mov', 'mov', 'mov', 'int', 'pop', 'or', 'jz', 'test', 'jnz', 'cmp', 'je', 'call', 'push', 'mov', 'int', 'mov', 'int', 'jmp', 'xor', 'call', 'ret', 'mov', 'mov', 'mul', 'add', 'ret', 'mov', 'inc', 'or', 'jnz', 'dec', 'push', 'cld', 'lodsb', 'stosb', 'or', 'jnz', 'pop', 'ret', 'call', 'jnc', 'call', 'jnc', 'call', 'jnc', 'call', 'mov', 'mov', 'cmp', 'jnz', 'stc', 'ret', 'sub', 'ret', 'mov', 'cmp', 'mov', 'int', 'jnc', 'mov', 'mov', 'mov', 'mov', 'mov', 'int', 'call', 'mov', 'add', 'add', 'sub', 'add', 'add', 'sub', 'cmp', 'mov', 'add', 'mov', 'mul', 'mov', 'mov', 'mov', 'xor', 'xor', 'xor', 'xor', 'mov', 'int', 'mov', 'cmp', 'cmp', 'cmp', 'cmp', 'cmp', 'cmp', 'cmp', 'cmp', 'mov', 'mov', 'mov', 'int', 'jnc', 'mov', 'cmp', 'clc', 'jz', 'stc', 'mov', 'and', 'jnz', 'mov', 'sub', 'mov', 'add', 'adc', 'mov', 'mov', 'int', 'mov', 'mov', 'mov', 'mov', 'int', 'call', 'mov', 'xor', 'mov', 'mov', 'int', 'mov', 'mov', 'mov', 'inc', 'add', 'mov', 'adc', 'mov', 'mov', 'int', 'mov', 'mov', 'mov', 'mov', 'int', 'mov', 'mov', 'mov', 'inc', 'add', 'mov', 'adc', 'mov', 'mov', 'int', 'mov', 'mov', 'mov', 'mov', 'int', 'mov', 'mov', 'mov', 'add', 'add', 'mov', 'adc', 'mov', 'mov', 'int', 'mov', 'mov', 'mov', 'mov', 'int', 'xor', 'xor', 'mov', 'mov', 'int', 'mov', 'mov', 'shr', 'mov', 'and', 'mov', 'shl', 'add', 'sub', 'mov', 'mov', 'add', 'mov', 'shr', 'add', 'mov', 'mov', 'mov', 'mov', 'mov', 'mov', 'mov', 'mov', 'add', 'xor', 'adc', 'add', 'adc', 'push', 'mov', 'shr', 'mov', 'shl', 'add', 'mov', 'pop', 'and', 'mov', 'mov', 'add', 'mov', 'cmp', 'cmp', 'cmp', 'cmp', 'cmp', 'cmp', 'cmp', 'mov', 'mov', 'mov', 'int', 'mov', 'dec', 'dec', 'mov', 'mul', 'add', 'mov', 'adc', 'mov', 'mov', 'mov', 'mov', 'int', 'mov', 'mov', 'inc', 'mov', 'mov', 'mov', 'cmp', 'mov', 'add', 'mov', 'mov', 'mov', 'mov', 'mov', 'mov', 'int', 'call', 'call', 'ret', 'call', 'xor', 'int', 'and', 'ret', 'mov', 'cmp', 'mov', 'ret', 'mov', 'int', 'mov', 'mov', 'mov', 'mov', 'mov', 'mov', 'mov', 'int', 'ret', 'mov', 'mov', 'mov', 'mov', 'int', 'mov', 'mov', 'call', 'ret', 'mov', 'mov', 'mov', 'int', 'mov', 'mov', 'mov', 'mov', 'mov', 'int', 'mov', 'mov', 'mov', 'int', 'mov', 'mov', 'xor', 'mov', 'int', 'mov', 'mov', 'mov', 'mov', 'mov', 'mov', 'ret', 'mov', 'mov', 'mov', 'mov', 'xor', 'xor', 'xor', 'xor', 'xor', 'xor', 'xor', 'xor', 'xor', 'xor', 'xor', 'xor', 'xor', 'xor', 'xor', 'xor', 'mov', 'int', 'mov', 'mov', 'int', 'mov', 'xor', 'mov', 'mov', 'mov', 'int', 'ret', 'db']                                                                                                                                                                                                                                                                                                                                                                                                                                    1\n",
       "Name: file, Length: 183, dtype: int64"
      ]
     },
     "execution_count": 10,
     "metadata": {},
     "output_type": "execute_result"
    }
   ],
   "source": [
    "df['file'].value_counts()"
   ]
  },
  {
   "cell_type": "code",
   "execution_count": 11,
   "metadata": {},
   "outputs": [],
   "source": [
    "path=\"Data/Experiment 2/Test\"\n",
    "test =[]\n",
    "intruderc=0\n",
    "for i in range(20):\n",
    "    with open(path+'/'+str(i)+'.txt') as source:\n",
    "        line = Optional(Word(alphas.lower(),alphanums)(\"opcode\"))\n",
    "        file=[]\n",
    "        for source_line in source:\n",
    "            result = line.parseString(source_line)\n",
    "            if \"opcode\" in result:\n",
    "                if result.opcode!='nop':\n",
    "                    file.append(result.opcode)\n",
    "        if file!=[]:\n",
    "            test.append(str(file))\n",
    "            intruderc+=1"
   ]
  },
  {
   "cell_type": "code",
   "execution_count": 12,
   "metadata": {},
   "outputs": [],
   "source": [
    "path=\"Data/Experiment 1/Test\"\n",
    "f = os.listdir(path)\n",
    "\n",
    "# for index, file in enumerate(f):\n",
    "#     os.rename(os.path.join(path, file), os.path.join(path, ''.join([str(index), '.txt'])))\n",
    "    \n",
    "timidc=0\n",
    "for i in range(20):\n",
    "    with open(path+'/'+str(i)+'.txt') as source:\n",
    "        line = Optional(Word(alphas.lower(),alphanums)(\"opcode\"))\n",
    "        file=[]\n",
    "        for source_line in source:\n",
    "            result = line.parseString(source_line)\n",
    "            if \"opcode\" in result:\n",
    "                if result.opcode!='nop':\n",
    "                    file.append(result.opcode)\n",
    "        if file!=[]:\n",
    "            test.append(str(file))\n",
    "            timidc+=1"
   ]
  },
  {
   "cell_type": "code",
   "execution_count": 13,
   "metadata": {},
   "outputs": [
    {
     "data": {
      "text/plain": [
       "(40, 40)"
      ]
     },
     "execution_count": 13,
     "metadata": {},
     "output_type": "execute_result"
    }
   ],
   "source": [
    "result=['intruder']*intruderc + ['timid']*timidc\n",
    "len(result), len(test)"
   ]
  },
  {
   "cell_type": "code",
   "execution_count": 14,
   "metadata": {},
   "outputs": [
    {
     "data": {
      "text/html": [
       "<div>\n",
       "<style scoped>\n",
       "    .dataframe tbody tr th:only-of-type {\n",
       "        vertical-align: middle;\n",
       "    }\n",
       "\n",
       "    .dataframe tbody tr th {\n",
       "        vertical-align: top;\n",
       "    }\n",
       "\n",
       "    .dataframe thead th {\n",
       "        text-align: right;\n",
       "    }\n",
       "</style>\n",
       "<table border=\"1\" class=\"dataframe\">\n",
       "  <thead>\n",
       "    <tr style=\"text-align: right;\">\n",
       "      <th></th>\n",
       "      <th>label</th>\n",
       "      <th>file</th>\n",
       "    </tr>\n",
       "  </thead>\n",
       "  <tbody>\n",
       "    <tr>\n",
       "      <th>0</th>\n",
       "      <td>intruder</td>\n",
       "      <td>['mov', 'cmp', 'cmp', 'cmp', 'cmp', 'mov', 'mo...</td>\n",
       "    </tr>\n",
       "    <tr>\n",
       "      <th>1</th>\n",
       "      <td>intruder</td>\n",
       "      <td>['mov', 'cmp', 'cmp', 'cmp', 'cmp', 'mov', 'mo...</td>\n",
       "    </tr>\n",
       "    <tr>\n",
       "      <th>2</th>\n",
       "      <td>intruder</td>\n",
       "      <td>['mov', 'cmp', 'cmp', 'cmp', 'cmp', 'mov', 'mo...</td>\n",
       "    </tr>\n",
       "    <tr>\n",
       "      <th>3</th>\n",
       "      <td>intruder</td>\n",
       "      <td>['mov', 'cmp', 'cmp', 'cmp', 'cmp', 'mov', 'mo...</td>\n",
       "    </tr>\n",
       "    <tr>\n",
       "      <th>4</th>\n",
       "      <td>intruder</td>\n",
       "      <td>['mov', 'cmp', 'cmp', 'cmp', 'cmp', 'mov', 'mo...</td>\n",
       "    </tr>\n",
       "  </tbody>\n",
       "</table>\n",
       "</div>"
      ],
      "text/plain": [
       "      label                                               file\n",
       "0  intruder  ['mov', 'cmp', 'cmp', 'cmp', 'cmp', 'mov', 'mo...\n",
       "1  intruder  ['mov', 'cmp', 'cmp', 'cmp', 'cmp', 'mov', 'mo...\n",
       "2  intruder  ['mov', 'cmp', 'cmp', 'cmp', 'cmp', 'mov', 'mo...\n",
       "3  intruder  ['mov', 'cmp', 'cmp', 'cmp', 'cmp', 'mov', 'mo...\n",
       "4  intruder  ['mov', 'cmp', 'cmp', 'cmp', 'cmp', 'mov', 'mo..."
      ]
     },
     "execution_count": 14,
     "metadata": {},
     "output_type": "execute_result"
    }
   ],
   "source": [
    "dfTest = pd.DataFrame({'label':result, 'file':test})\n",
    "dfTest.head()"
   ]
  },
  {
   "cell_type": "code",
   "execution_count": 15,
   "metadata": {},
   "outputs": [
    {
     "name": "stdout",
     "output_type": "stream",
     "text": [
      "(40, 2)\n"
     ]
    },
    {
     "data": {
      "text/html": [
       "<div>\n",
       "<style scoped>\n",
       "    .dataframe tbody tr th:only-of-type {\n",
       "        vertical-align: middle;\n",
       "    }\n",
       "\n",
       "    .dataframe tbody tr th {\n",
       "        vertical-align: top;\n",
       "    }\n",
       "\n",
       "    .dataframe thead th {\n",
       "        text-align: right;\n",
       "    }\n",
       "</style>\n",
       "<table border=\"1\" class=\"dataframe\">\n",
       "  <thead>\n",
       "    <tr style=\"text-align: right;\">\n",
       "      <th></th>\n",
       "      <th>label</th>\n",
       "      <th>file</th>\n",
       "    </tr>\n",
       "  </thead>\n",
       "  <tbody>\n",
       "    <tr>\n",
       "      <th>0</th>\n",
       "      <td>1</td>\n",
       "      <td>['mov', 'cmp', 'cmp', 'cmp', 'cmp', 'mov', 'mo...</td>\n",
       "    </tr>\n",
       "    <tr>\n",
       "      <th>1</th>\n",
       "      <td>1</td>\n",
       "      <td>['mov', 'cmp', 'cmp', 'cmp', 'cmp', 'mov', 'mo...</td>\n",
       "    </tr>\n",
       "    <tr>\n",
       "      <th>2</th>\n",
       "      <td>1</td>\n",
       "      <td>['mov', 'cmp', 'cmp', 'cmp', 'cmp', 'mov', 'mo...</td>\n",
       "    </tr>\n",
       "    <tr>\n",
       "      <th>3</th>\n",
       "      <td>1</td>\n",
       "      <td>['mov', 'cmp', 'cmp', 'cmp', 'cmp', 'mov', 'mo...</td>\n",
       "    </tr>\n",
       "    <tr>\n",
       "      <th>4</th>\n",
       "      <td>1</td>\n",
       "      <td>['mov', 'cmp', 'cmp', 'cmp', 'cmp', 'mov', 'mo...</td>\n",
       "    </tr>\n",
       "  </tbody>\n",
       "</table>\n",
       "</div>"
      ],
      "text/plain": [
       "   label                                               file\n",
       "0      1  ['mov', 'cmp', 'cmp', 'cmp', 'cmp', 'mov', 'mo...\n",
       "1      1  ['mov', 'cmp', 'cmp', 'cmp', 'cmp', 'mov', 'mo...\n",
       "2      1  ['mov', 'cmp', 'cmp', 'cmp', 'cmp', 'mov', 'mo...\n",
       "3      1  ['mov', 'cmp', 'cmp', 'cmp', 'cmp', 'mov', 'mo...\n",
       "4      1  ['mov', 'cmp', 'cmp', 'cmp', 'cmp', 'mov', 'mo..."
      ]
     },
     "execution_count": 15,
     "metadata": {},
     "output_type": "execute_result"
    }
   ],
   "source": [
    "dfTest.loc[:,'label'] = dfTest.label.map({'timid':0, 'intruder':1})\n",
    "print(dfTest.shape)\n",
    "dfTest.head()"
   ]
  },
  {
   "cell_type": "code",
   "execution_count": 16,
   "metadata": {},
   "outputs": [],
   "source": [
    "X=df['file']\n",
    "y=df['label']\n",
    "X_test=dfTest['file']\n",
    "y_test=dfTest['label']"
   ]
  },
  {
   "cell_type": "code",
   "execution_count": 17,
   "metadata": {},
   "outputs": [
    {
     "data": {
      "text/plain": [
       "(203, 33)"
      ]
     },
     "execution_count": 17,
     "metadata": {},
     "output_type": "execute_result"
    }
   ],
   "source": [
    "count_vect=CountVectorizer()\n",
    "X_counts =count_vect.fit_transform(X)\n",
    "X_counts.shape"
   ]
  },
  {
   "cell_type": "code",
   "execution_count": 18,
   "metadata": {},
   "outputs": [
    {
     "data": {
      "text/plain": [
       "(40, 33)"
      ]
     },
     "execution_count": 18,
     "metadata": {},
     "output_type": "execute_result"
    }
   ],
   "source": [
    "X_counts_test =count_vect.transform(X_test)\n",
    "X_counts_test.shape"
   ]
  },
  {
   "cell_type": "code",
   "execution_count": 19,
   "metadata": {},
   "outputs": [
    {
     "data": {
      "text/plain": [
       "MultinomialNB()"
      ]
     },
     "execution_count": 19,
     "metadata": {},
     "output_type": "execute_result"
    }
   ],
   "source": [
    "from sklearn.naive_bayes import MultinomialNB\n",
    "naive_bayes = MultinomialNB()\n",
    "naive_bayes.fit(X_counts,y)"
   ]
  },
  {
   "cell_type": "code",
   "execution_count": 20,
   "metadata": {},
   "outputs": [],
   "source": [
    "predictions = naive_bayes.predict(X_counts_test)"
   ]
  },
  {
   "cell_type": "code",
   "execution_count": 21,
   "metadata": {},
   "outputs": [
    {
     "name": "stdout",
     "output_type": "stream",
     "text": [
      "Accuracy score: 1.0\n",
      "Precision score: 1.0\n",
      "Recall score: 1.0\n",
      "F1 score: 1.0\n"
     ]
    }
   ],
   "source": [
    "from sklearn.metrics import accuracy_score, precision_score, recall_score, f1_score\n",
    "print('Accuracy score: {}'.format(accuracy_score(y_test, predictions)))\n",
    "print('Precision score: {}'.format(precision_score(y_test, predictions)))\n",
    "print('Recall score: {}'.format(recall_score(y_test, predictions)))\n",
    "print('F1 score: {}'.format(f1_score(y_test, predictions)))"
   ]
  },
  {
   "cell_type": "code",
   "execution_count": null,
   "metadata": {},
   "outputs": [],
   "source": []
  }
 ],
 "metadata": {
  "kernelspec": {
   "display_name": "Python 3",
   "language": "python",
   "name": "python3"
  },
  "language_info": {
   "codemirror_mode": {
    "name": "ipython",
    "version": 3
   },
   "file_extension": ".py",
   "mimetype": "text/x-python",
   "name": "python",
   "nbconvert_exporter": "python",
   "pygments_lexer": "ipython3",
   "version": "3.8.5"
  }
 },
 "nbformat": 4,
 "nbformat_minor": 4
}
